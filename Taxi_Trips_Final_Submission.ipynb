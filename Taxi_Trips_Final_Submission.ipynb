{
 "cells": [
  {
   "cell_type": "markdown",
   "metadata": {},
   "source": [
    "# Capital One Data Science Challenge: Trips!"
   ]
  },
  {
   "cell_type": "markdown",
   "metadata": {},
   "source": [
    "For this challenge, we use data collected by the New York City Taxi and Limousine Commission about Green Taxis. We use data from September 2015"
   ]
  },
  {
   "cell_type": "markdown",
   "metadata": {},
   "source": [
    "## Importing required libraries for analysis"
   ]
  },
  {
   "cell_type": "code",
   "execution_count": 1,
   "metadata": {
    "collapsed": true
   },
   "outputs": [],
   "source": [
    "#Importing some libraries\n",
    "import os\n",
    "import numpy as np\n",
    "import pandas as pd\n",
    "import seaborn as sns\n",
    "import matplotlib.pyplot as plt\n",
    "%matplotlib inline\n",
    "import shapely\n",
    "from shapely.geometry import Point, Polygon, MultiPolygon, MultiPoint"
   ]
  },
  {
   "cell_type": "markdown",
   "metadata": {},
   "source": [
    "## Question 1\n",
    "\n",
    "** •            Programmatically download and load into your favorite analytical tool the trip data for September 2015. **\n",
    "\n",
    "** •            Report how many rows and columns of data you have loaded.**"
   ]
  },
  {
   "cell_type": "code",
   "execution_count": 2,
   "metadata": {
    "collapsed": true
   },
   "outputs": [],
   "source": [
    "#Reading in data using pandas\n",
    "data = pd.read_csv('green_tripdata_2015-09.csv')"
   ]
  },
  {
   "cell_type": "markdown",
   "metadata": {},
   "source": [
    "The downloaded dataset should be placed in the working directory"
   ]
  },
  {
   "cell_type": "markdown",
   "metadata": {},
   "source": [
    "### Looking at the data"
   ]
  },
  {
   "cell_type": "code",
   "execution_count": 3,
   "metadata": {},
   "outputs": [
    {
     "name": "stdout",
     "output_type": "stream",
     "text": [
      "<class 'pandas.core.frame.DataFrame'>\n",
      "RangeIndex: 1494926 entries, 0 to 1494925\n",
      "Data columns (total 21 columns):\n",
      "VendorID                 1494926 non-null int64\n",
      "lpep_pickup_datetime     1494926 non-null object\n",
      "Lpep_dropoff_datetime    1494926 non-null object\n",
      "Store_and_fwd_flag       1494926 non-null object\n",
      "RateCodeID               1494926 non-null int64\n",
      "Pickup_longitude         1494926 non-null float64\n",
      "Pickup_latitude          1494926 non-null float64\n",
      "Dropoff_longitude        1494926 non-null float64\n",
      "Dropoff_latitude         1494926 non-null float64\n",
      "Passenger_count          1494926 non-null int64\n",
      "Trip_distance            1494926 non-null float64\n",
      "Fare_amount              1494926 non-null float64\n",
      "Extra                    1494926 non-null float64\n",
      "MTA_tax                  1494926 non-null float64\n",
      "Tip_amount               1494926 non-null float64\n",
      "Tolls_amount             1494926 non-null float64\n",
      "Ehail_fee                0 non-null float64\n",
      "improvement_surcharge    1494926 non-null float64\n",
      "Total_amount             1494926 non-null float64\n",
      "Payment_type             1494926 non-null int64\n",
      "Trip_type                1494922 non-null float64\n",
      "dtypes: float64(14), int64(4), object(3)\n",
      "memory usage: 239.5+ MB\n"
     ]
    },
    {
     "data": {
      "text/plain": [
       "Index([u'VendorID', u'lpep_pickup_datetime', u'Lpep_dropoff_datetime',\n",
       "       u'Store_and_fwd_flag', u'RateCodeID', u'Pickup_longitude',\n",
       "       u'Pickup_latitude', u'Dropoff_longitude', u'Dropoff_latitude',\n",
       "       u'Passenger_count', u'Trip_distance', u'Fare_amount', u'Extra',\n",
       "       u'MTA_tax', u'Tip_amount', u'Tolls_amount', u'Ehail_fee',\n",
       "       u'improvement_surcharge', u'Total_amount', u'Payment_type',\n",
       "       u'Trip_type '],\n",
       "      dtype='object')"
      ]
     },
     "execution_count": 3,
     "metadata": {},
     "output_type": "execute_result"
    }
   ],
   "source": [
    "#Looking at the data\n",
    "data.info()\n",
    "\n",
    "#Printing out the column names of the data\n",
    "data.columns\n"
   ]
  },
  {
   "cell_type": "code",
   "execution_count": 4,
   "metadata": {},
   "outputs": [
    {
     "data": {
      "text/html": [
       "<div>\n",
       "<style>\n",
       "    .dataframe thead tr:only-child th {\n",
       "        text-align: right;\n",
       "    }\n",
       "\n",
       "    .dataframe thead th {\n",
       "        text-align: left;\n",
       "    }\n",
       "\n",
       "    .dataframe tbody tr th {\n",
       "        vertical-align: top;\n",
       "    }\n",
       "</style>\n",
       "<table border=\"1\" class=\"dataframe\">\n",
       "  <thead>\n",
       "    <tr style=\"text-align: right;\">\n",
       "      <th></th>\n",
       "      <th>VendorID</th>\n",
       "      <th>RateCodeID</th>\n",
       "      <th>Pickup_longitude</th>\n",
       "      <th>Pickup_latitude</th>\n",
       "      <th>Dropoff_longitude</th>\n",
       "      <th>Dropoff_latitude</th>\n",
       "      <th>Passenger_count</th>\n",
       "      <th>Trip_distance</th>\n",
       "      <th>Fare_amount</th>\n",
       "      <th>Extra</th>\n",
       "      <th>MTA_tax</th>\n",
       "      <th>Tip_amount</th>\n",
       "      <th>Tolls_amount</th>\n",
       "      <th>Ehail_fee</th>\n",
       "      <th>improvement_surcharge</th>\n",
       "      <th>Total_amount</th>\n",
       "      <th>Payment_type</th>\n",
       "      <th>Trip_type</th>\n",
       "    </tr>\n",
       "  </thead>\n",
       "  <tbody>\n",
       "    <tr>\n",
       "      <th>count</th>\n",
       "      <td>1.494926e+06</td>\n",
       "      <td>1.494926e+06</td>\n",
       "      <td>1.494926e+06</td>\n",
       "      <td>1.494926e+06</td>\n",
       "      <td>1.494926e+06</td>\n",
       "      <td>1.494926e+06</td>\n",
       "      <td>1.494926e+06</td>\n",
       "      <td>1.494926e+06</td>\n",
       "      <td>1.494926e+06</td>\n",
       "      <td>1.494926e+06</td>\n",
       "      <td>1.494926e+06</td>\n",
       "      <td>1.494926e+06</td>\n",
       "      <td>1.494926e+06</td>\n",
       "      <td>0.0</td>\n",
       "      <td>1.494926e+06</td>\n",
       "      <td>1.494926e+06</td>\n",
       "      <td>1.494926e+06</td>\n",
       "      <td>1.494922e+06</td>\n",
       "    </tr>\n",
       "    <tr>\n",
       "      <th>mean</th>\n",
       "      <td>1.782045e+00</td>\n",
       "      <td>1.097653e+00</td>\n",
       "      <td>-7.383084e+01</td>\n",
       "      <td>4.069114e+01</td>\n",
       "      <td>-7.383728e+01</td>\n",
       "      <td>4.069291e+01</td>\n",
       "      <td>1.370598e+00</td>\n",
       "      <td>2.968141e+00</td>\n",
       "      <td>1.254320e+01</td>\n",
       "      <td>3.512800e-01</td>\n",
       "      <td>4.866408e-01</td>\n",
       "      <td>1.235727e+00</td>\n",
       "      <td>1.231047e-01</td>\n",
       "      <td>NaN</td>\n",
       "      <td>2.920991e-01</td>\n",
       "      <td>1.503215e+01</td>\n",
       "      <td>1.540559e+00</td>\n",
       "      <td>1.022353e+00</td>\n",
       "    </tr>\n",
       "    <tr>\n",
       "      <th>std</th>\n",
       "      <td>4.128570e-01</td>\n",
       "      <td>6.359437e-01</td>\n",
       "      <td>2.776082e+00</td>\n",
       "      <td>1.530882e+00</td>\n",
       "      <td>2.677911e+00</td>\n",
       "      <td>1.476698e+00</td>\n",
       "      <td>1.039426e+00</td>\n",
       "      <td>3.076621e+00</td>\n",
       "      <td>1.008278e+01</td>\n",
       "      <td>3.663096e-01</td>\n",
       "      <td>8.504473e-02</td>\n",
       "      <td>2.431476e+00</td>\n",
       "      <td>8.910137e-01</td>\n",
       "      <td>NaN</td>\n",
       "      <td>5.074009e-02</td>\n",
       "      <td>1.155316e+01</td>\n",
       "      <td>5.232935e-01</td>\n",
       "      <td>1.478288e-01</td>\n",
       "    </tr>\n",
       "    <tr>\n",
       "      <th>min</th>\n",
       "      <td>1.000000e+00</td>\n",
       "      <td>1.000000e+00</td>\n",
       "      <td>-8.331908e+01</td>\n",
       "      <td>0.000000e+00</td>\n",
       "      <td>-8.342784e+01</td>\n",
       "      <td>0.000000e+00</td>\n",
       "      <td>0.000000e+00</td>\n",
       "      <td>0.000000e+00</td>\n",
       "      <td>-4.750000e+02</td>\n",
       "      <td>-1.000000e+00</td>\n",
       "      <td>-5.000000e-01</td>\n",
       "      <td>-5.000000e+01</td>\n",
       "      <td>-1.529000e+01</td>\n",
       "      <td>NaN</td>\n",
       "      <td>-3.000000e-01</td>\n",
       "      <td>-4.750000e+02</td>\n",
       "      <td>1.000000e+00</td>\n",
       "      <td>1.000000e+00</td>\n",
       "    </tr>\n",
       "    <tr>\n",
       "      <th>25%</th>\n",
       "      <td>2.000000e+00</td>\n",
       "      <td>1.000000e+00</td>\n",
       "      <td>-7.395961e+01</td>\n",
       "      <td>4.069895e+01</td>\n",
       "      <td>-7.396782e+01</td>\n",
       "      <td>4.069878e+01</td>\n",
       "      <td>1.000000e+00</td>\n",
       "      <td>1.100000e+00</td>\n",
       "      <td>6.500000e+00</td>\n",
       "      <td>0.000000e+00</td>\n",
       "      <td>5.000000e-01</td>\n",
       "      <td>0.000000e+00</td>\n",
       "      <td>0.000000e+00</td>\n",
       "      <td>NaN</td>\n",
       "      <td>3.000000e-01</td>\n",
       "      <td>8.160000e+00</td>\n",
       "      <td>1.000000e+00</td>\n",
       "      <td>1.000000e+00</td>\n",
       "    </tr>\n",
       "    <tr>\n",
       "      <th>50%</th>\n",
       "      <td>2.000000e+00</td>\n",
       "      <td>1.000000e+00</td>\n",
       "      <td>-7.394536e+01</td>\n",
       "      <td>4.074674e+01</td>\n",
       "      <td>-7.394504e+01</td>\n",
       "      <td>4.074728e+01</td>\n",
       "      <td>1.000000e+00</td>\n",
       "      <td>1.980000e+00</td>\n",
       "      <td>9.500000e+00</td>\n",
       "      <td>5.000000e-01</td>\n",
       "      <td>5.000000e-01</td>\n",
       "      <td>0.000000e+00</td>\n",
       "      <td>0.000000e+00</td>\n",
       "      <td>NaN</td>\n",
       "      <td>3.000000e-01</td>\n",
       "      <td>1.176000e+01</td>\n",
       "      <td>2.000000e+00</td>\n",
       "      <td>1.000000e+00</td>\n",
       "    </tr>\n",
       "    <tr>\n",
       "      <th>75%</th>\n",
       "      <td>2.000000e+00</td>\n",
       "      <td>1.000000e+00</td>\n",
       "      <td>-7.391748e+01</td>\n",
       "      <td>4.080255e+01</td>\n",
       "      <td>-7.391013e+01</td>\n",
       "      <td>4.079015e+01</td>\n",
       "      <td>1.000000e+00</td>\n",
       "      <td>3.740000e+00</td>\n",
       "      <td>1.550000e+01</td>\n",
       "      <td>5.000000e-01</td>\n",
       "      <td>5.000000e-01</td>\n",
       "      <td>2.000000e+00</td>\n",
       "      <td>0.000000e+00</td>\n",
       "      <td>NaN</td>\n",
       "      <td>3.000000e-01</td>\n",
       "      <td>1.830000e+01</td>\n",
       "      <td>2.000000e+00</td>\n",
       "      <td>1.000000e+00</td>\n",
       "    </tr>\n",
       "    <tr>\n",
       "      <th>max</th>\n",
       "      <td>2.000000e+00</td>\n",
       "      <td>9.900000e+01</td>\n",
       "      <td>0.000000e+00</td>\n",
       "      <td>4.317726e+01</td>\n",
       "      <td>0.000000e+00</td>\n",
       "      <td>4.279934e+01</td>\n",
       "      <td>9.000000e+00</td>\n",
       "      <td>6.031000e+02</td>\n",
       "      <td>5.805000e+02</td>\n",
       "      <td>1.200000e+01</td>\n",
       "      <td>5.000000e-01</td>\n",
       "      <td>3.000000e+02</td>\n",
       "      <td>9.575000e+01</td>\n",
       "      <td>NaN</td>\n",
       "      <td>3.000000e-01</td>\n",
       "      <td>5.813000e+02</td>\n",
       "      <td>5.000000e+00</td>\n",
       "      <td>2.000000e+00</td>\n",
       "    </tr>\n",
       "  </tbody>\n",
       "</table>\n",
       "</div>"
      ],
      "text/plain": [
       "           VendorID    RateCodeID  Pickup_longitude  Pickup_latitude  \\\n",
       "count  1.494926e+06  1.494926e+06      1.494926e+06     1.494926e+06   \n",
       "mean   1.782045e+00  1.097653e+00     -7.383084e+01     4.069114e+01   \n",
       "std    4.128570e-01  6.359437e-01      2.776082e+00     1.530882e+00   \n",
       "min    1.000000e+00  1.000000e+00     -8.331908e+01     0.000000e+00   \n",
       "25%    2.000000e+00  1.000000e+00     -7.395961e+01     4.069895e+01   \n",
       "50%    2.000000e+00  1.000000e+00     -7.394536e+01     4.074674e+01   \n",
       "75%    2.000000e+00  1.000000e+00     -7.391748e+01     4.080255e+01   \n",
       "max    2.000000e+00  9.900000e+01      0.000000e+00     4.317726e+01   \n",
       "\n",
       "       Dropoff_longitude  Dropoff_latitude  Passenger_count  Trip_distance  \\\n",
       "count       1.494926e+06      1.494926e+06     1.494926e+06   1.494926e+06   \n",
       "mean       -7.383728e+01      4.069291e+01     1.370598e+00   2.968141e+00   \n",
       "std         2.677911e+00      1.476698e+00     1.039426e+00   3.076621e+00   \n",
       "min        -8.342784e+01      0.000000e+00     0.000000e+00   0.000000e+00   \n",
       "25%        -7.396782e+01      4.069878e+01     1.000000e+00   1.100000e+00   \n",
       "50%        -7.394504e+01      4.074728e+01     1.000000e+00   1.980000e+00   \n",
       "75%        -7.391013e+01      4.079015e+01     1.000000e+00   3.740000e+00   \n",
       "max         0.000000e+00      4.279934e+01     9.000000e+00   6.031000e+02   \n",
       "\n",
       "        Fare_amount         Extra       MTA_tax    Tip_amount  Tolls_amount  \\\n",
       "count  1.494926e+06  1.494926e+06  1.494926e+06  1.494926e+06  1.494926e+06   \n",
       "mean   1.254320e+01  3.512800e-01  4.866408e-01  1.235727e+00  1.231047e-01   \n",
       "std    1.008278e+01  3.663096e-01  8.504473e-02  2.431476e+00  8.910137e-01   \n",
       "min   -4.750000e+02 -1.000000e+00 -5.000000e-01 -5.000000e+01 -1.529000e+01   \n",
       "25%    6.500000e+00  0.000000e+00  5.000000e-01  0.000000e+00  0.000000e+00   \n",
       "50%    9.500000e+00  5.000000e-01  5.000000e-01  0.000000e+00  0.000000e+00   \n",
       "75%    1.550000e+01  5.000000e-01  5.000000e-01  2.000000e+00  0.000000e+00   \n",
       "max    5.805000e+02  1.200000e+01  5.000000e-01  3.000000e+02  9.575000e+01   \n",
       "\n",
       "       Ehail_fee  improvement_surcharge  Total_amount  Payment_type  \\\n",
       "count        0.0           1.494926e+06  1.494926e+06  1.494926e+06   \n",
       "mean         NaN           2.920991e-01  1.503215e+01  1.540559e+00   \n",
       "std          NaN           5.074009e-02  1.155316e+01  5.232935e-01   \n",
       "min          NaN          -3.000000e-01 -4.750000e+02  1.000000e+00   \n",
       "25%          NaN           3.000000e-01  8.160000e+00  1.000000e+00   \n",
       "50%          NaN           3.000000e-01  1.176000e+01  2.000000e+00   \n",
       "75%          NaN           3.000000e-01  1.830000e+01  2.000000e+00   \n",
       "max          NaN           3.000000e-01  5.813000e+02  5.000000e+00   \n",
       "\n",
       "         Trip_type   \n",
       "count  1.494922e+06  \n",
       "mean   1.022353e+00  \n",
       "std    1.478288e-01  \n",
       "min    1.000000e+00  \n",
       "25%    1.000000e+00  \n",
       "50%    1.000000e+00  \n",
       "75%    1.000000e+00  \n",
       "max    2.000000e+00  "
      ]
     },
     "execution_count": 4,
     "metadata": {},
     "output_type": "execute_result"
    }
   ],
   "source": [
    "data.describe()"
   ]
  },
  {
   "cell_type": "code",
   "execution_count": 5,
   "metadata": {},
   "outputs": [
    {
     "data": {
      "text/html": [
       "<div>\n",
       "<style>\n",
       "    .dataframe thead tr:only-child th {\n",
       "        text-align: right;\n",
       "    }\n",
       "\n",
       "    .dataframe thead th {\n",
       "        text-align: left;\n",
       "    }\n",
       "\n",
       "    .dataframe tbody tr th {\n",
       "        vertical-align: top;\n",
       "    }\n",
       "</style>\n",
       "<table border=\"1\" class=\"dataframe\">\n",
       "  <thead>\n",
       "    <tr style=\"text-align: right;\">\n",
       "      <th></th>\n",
       "      <th>VendorID</th>\n",
       "      <th>lpep_pickup_datetime</th>\n",
       "      <th>Lpep_dropoff_datetime</th>\n",
       "      <th>Store_and_fwd_flag</th>\n",
       "      <th>RateCodeID</th>\n",
       "      <th>Pickup_longitude</th>\n",
       "      <th>Pickup_latitude</th>\n",
       "      <th>Dropoff_longitude</th>\n",
       "      <th>Dropoff_latitude</th>\n",
       "      <th>Passenger_count</th>\n",
       "      <th>...</th>\n",
       "      <th>Fare_amount</th>\n",
       "      <th>Extra</th>\n",
       "      <th>MTA_tax</th>\n",
       "      <th>Tip_amount</th>\n",
       "      <th>Tolls_amount</th>\n",
       "      <th>Ehail_fee</th>\n",
       "      <th>improvement_surcharge</th>\n",
       "      <th>Total_amount</th>\n",
       "      <th>Payment_type</th>\n",
       "      <th>Trip_type</th>\n",
       "    </tr>\n",
       "  </thead>\n",
       "  <tbody>\n",
       "    <tr>\n",
       "      <th>0</th>\n",
       "      <td>2</td>\n",
       "      <td>2015-09-01 00:02:34</td>\n",
       "      <td>2015-09-01 00:02:38</td>\n",
       "      <td>N</td>\n",
       "      <td>5</td>\n",
       "      <td>-73.979485</td>\n",
       "      <td>40.684956</td>\n",
       "      <td>-73.979431</td>\n",
       "      <td>40.685020</td>\n",
       "      <td>1</td>\n",
       "      <td>...</td>\n",
       "      <td>7.8</td>\n",
       "      <td>0.0</td>\n",
       "      <td>0.0</td>\n",
       "      <td>1.95</td>\n",
       "      <td>0.0</td>\n",
       "      <td>NaN</td>\n",
       "      <td>0.0</td>\n",
       "      <td>9.75</td>\n",
       "      <td>1</td>\n",
       "      <td>2.0</td>\n",
       "    </tr>\n",
       "    <tr>\n",
       "      <th>1</th>\n",
       "      <td>2</td>\n",
       "      <td>2015-09-01 00:04:20</td>\n",
       "      <td>2015-09-01 00:04:24</td>\n",
       "      <td>N</td>\n",
       "      <td>5</td>\n",
       "      <td>-74.010796</td>\n",
       "      <td>40.912216</td>\n",
       "      <td>-74.010780</td>\n",
       "      <td>40.912212</td>\n",
       "      <td>1</td>\n",
       "      <td>...</td>\n",
       "      <td>45.0</td>\n",
       "      <td>0.0</td>\n",
       "      <td>0.0</td>\n",
       "      <td>0.00</td>\n",
       "      <td>0.0</td>\n",
       "      <td>NaN</td>\n",
       "      <td>0.0</td>\n",
       "      <td>45.00</td>\n",
       "      <td>1</td>\n",
       "      <td>2.0</td>\n",
       "    </tr>\n",
       "    <tr>\n",
       "      <th>2</th>\n",
       "      <td>2</td>\n",
       "      <td>2015-09-01 00:01:50</td>\n",
       "      <td>2015-09-01 00:04:24</td>\n",
       "      <td>N</td>\n",
       "      <td>1</td>\n",
       "      <td>-73.921410</td>\n",
       "      <td>40.766708</td>\n",
       "      <td>-73.914413</td>\n",
       "      <td>40.764687</td>\n",
       "      <td>1</td>\n",
       "      <td>...</td>\n",
       "      <td>4.0</td>\n",
       "      <td>0.5</td>\n",
       "      <td>0.5</td>\n",
       "      <td>0.50</td>\n",
       "      <td>0.0</td>\n",
       "      <td>NaN</td>\n",
       "      <td>0.3</td>\n",
       "      <td>5.80</td>\n",
       "      <td>1</td>\n",
       "      <td>1.0</td>\n",
       "    </tr>\n",
       "    <tr>\n",
       "      <th>3</th>\n",
       "      <td>2</td>\n",
       "      <td>2015-09-01 00:02:36</td>\n",
       "      <td>2015-09-01 00:06:42</td>\n",
       "      <td>N</td>\n",
       "      <td>1</td>\n",
       "      <td>-73.921387</td>\n",
       "      <td>40.766678</td>\n",
       "      <td>-73.931427</td>\n",
       "      <td>40.771584</td>\n",
       "      <td>1</td>\n",
       "      <td>...</td>\n",
       "      <td>5.0</td>\n",
       "      <td>0.5</td>\n",
       "      <td>0.5</td>\n",
       "      <td>0.00</td>\n",
       "      <td>0.0</td>\n",
       "      <td>NaN</td>\n",
       "      <td>0.3</td>\n",
       "      <td>6.30</td>\n",
       "      <td>2</td>\n",
       "      <td>1.0</td>\n",
       "    </tr>\n",
       "    <tr>\n",
       "      <th>4</th>\n",
       "      <td>2</td>\n",
       "      <td>2015-09-01 00:00:14</td>\n",
       "      <td>2015-09-01 00:04:20</td>\n",
       "      <td>N</td>\n",
       "      <td>1</td>\n",
       "      <td>-73.955482</td>\n",
       "      <td>40.714046</td>\n",
       "      <td>-73.944412</td>\n",
       "      <td>40.714729</td>\n",
       "      <td>1</td>\n",
       "      <td>...</td>\n",
       "      <td>5.0</td>\n",
       "      <td>0.5</td>\n",
       "      <td>0.5</td>\n",
       "      <td>0.00</td>\n",
       "      <td>0.0</td>\n",
       "      <td>NaN</td>\n",
       "      <td>0.3</td>\n",
       "      <td>6.30</td>\n",
       "      <td>2</td>\n",
       "      <td>1.0</td>\n",
       "    </tr>\n",
       "  </tbody>\n",
       "</table>\n",
       "<p>5 rows × 21 columns</p>\n",
       "</div>"
      ],
      "text/plain": [
       "   VendorID lpep_pickup_datetime Lpep_dropoff_datetime Store_and_fwd_flag  \\\n",
       "0         2  2015-09-01 00:02:34   2015-09-01 00:02:38                  N   \n",
       "1         2  2015-09-01 00:04:20   2015-09-01 00:04:24                  N   \n",
       "2         2  2015-09-01 00:01:50   2015-09-01 00:04:24                  N   \n",
       "3         2  2015-09-01 00:02:36   2015-09-01 00:06:42                  N   \n",
       "4         2  2015-09-01 00:00:14   2015-09-01 00:04:20                  N   \n",
       "\n",
       "   RateCodeID  Pickup_longitude  Pickup_latitude  Dropoff_longitude  \\\n",
       "0           5        -73.979485        40.684956         -73.979431   \n",
       "1           5        -74.010796        40.912216         -74.010780   \n",
       "2           1        -73.921410        40.766708         -73.914413   \n",
       "3           1        -73.921387        40.766678         -73.931427   \n",
       "4           1        -73.955482        40.714046         -73.944412   \n",
       "\n",
       "   Dropoff_latitude  Passenger_count     ...      Fare_amount  Extra  MTA_tax  \\\n",
       "0         40.685020                1     ...              7.8    0.0      0.0   \n",
       "1         40.912212                1     ...             45.0    0.0      0.0   \n",
       "2         40.764687                1     ...              4.0    0.5      0.5   \n",
       "3         40.771584                1     ...              5.0    0.5      0.5   \n",
       "4         40.714729                1     ...              5.0    0.5      0.5   \n",
       "\n",
       "   Tip_amount  Tolls_amount  Ehail_fee  improvement_surcharge  Total_amount  \\\n",
       "0        1.95           0.0        NaN                    0.0          9.75   \n",
       "1        0.00           0.0        NaN                    0.0         45.00   \n",
       "2        0.50           0.0        NaN                    0.3          5.80   \n",
       "3        0.00           0.0        NaN                    0.3          6.30   \n",
       "4        0.00           0.0        NaN                    0.3          6.30   \n",
       "\n",
       "   Payment_type  Trip_type   \n",
       "0             1         2.0  \n",
       "1             1         2.0  \n",
       "2             1         1.0  \n",
       "3             2         1.0  \n",
       "4             2         1.0  \n",
       "\n",
       "[5 rows x 21 columns]"
      ]
     },
     "execution_count": 5,
     "metadata": {},
     "output_type": "execute_result"
    }
   ],
   "source": [
    "data.head(5)"
   ]
  },
  {
   "cell_type": "code",
   "execution_count": 6,
   "metadata": {},
   "outputs": [
    {
     "data": {
      "text/plain": [
       "VendorID                 False\n",
       "lpep_pickup_datetime     False\n",
       "Lpep_dropoff_datetime    False\n",
       "Store_and_fwd_flag       False\n",
       "RateCodeID               False\n",
       "Pickup_longitude         False\n",
       "Pickup_latitude          False\n",
       "Dropoff_longitude        False\n",
       "Dropoff_latitude         False\n",
       "Passenger_count          False\n",
       "Trip_distance            False\n",
       "Fare_amount              False\n",
       "Extra                    False\n",
       "MTA_tax                  False\n",
       "Tip_amount               False\n",
       "Tolls_amount             False\n",
       "Ehail_fee                 True\n",
       "improvement_surcharge    False\n",
       "Total_amount             False\n",
       "Payment_type             False\n",
       "Trip_type                 True\n",
       "dtype: bool"
      ]
     },
     "execution_count": 6,
     "metadata": {},
     "output_type": "execute_result"
    }
   ],
   "source": [
    "#Checking for NaNs in the data\n",
    "pd.isnull(data).any()\n"
   ]
  },
  {
   "cell_type": "markdown",
   "metadata": {},
   "source": [
    "Only the columns E_hail fee and Trip_Type seem to have nulls. E_Hail fee has a lot of nulls and trip type has 4 nulls. Will address these nulls while cleaning data"
   ]
  },
  {
   "cell_type": "markdown",
   "metadata": {},
   "source": [
    "### Reporting the number of rows and columns in the loaded data"
   ]
  },
  {
   "cell_type": "code",
   "execution_count": 7,
   "metadata": {},
   "outputs": [
    {
     "name": "stdout",
     "output_type": "stream",
     "text": [
      "The number of rows in this dataset is: 1494926\n",
      "The number of columns in this dataset is: 21\n"
     ]
    }
   ],
   "source": [
    "#Rows\n",
    "print(\"The number of rows in this dataset is: {}\".format(data.shape[0]))\n",
    "#Columns\n",
    "print(\"The number of columns in this dataset is: {}\".format(data.shape[1]))\n"
   ]
  },
  {
   "cell_type": "markdown",
   "metadata": {},
   "source": [
    "# Question 2\n",
    "\n",
    "**•            Plot a histogram of the number of the trip distance (“Trip Distance”).**\n",
    "\n",
    "**•            Report any structure you find and any hypotheses you have about that structure.**"
   ]
  },
  {
   "cell_type": "markdown",
   "metadata": {},
   "source": [
    "### Histogram of Trip distance"
   ]
  },
  {
   "cell_type": "code",
   "execution_count": 8,
   "metadata": {},
   "outputs": [
    {
     "name": "stdout",
     "output_type": "stream",
     "text": [
      "Number of unique trip distances : 3210\n",
      "Maximum trip distance: 603.1\n",
      "Mean trip distance: 2.96814085112\n",
      "Median trip distance: 1.98\n"
     ]
    },
    {
     "data": {
      "text/html": [
       "<div>\n",
       "<style>\n",
       "    .dataframe thead tr:only-child th {\n",
       "        text-align: right;\n",
       "    }\n",
       "\n",
       "    .dataframe thead th {\n",
       "        text-align: left;\n",
       "    }\n",
       "\n",
       "    .dataframe tbody tr th {\n",
       "        vertical-align: top;\n",
       "    }\n",
       "</style>\n",
       "<table border=\"1\" class=\"dataframe\">\n",
       "  <thead>\n",
       "    <tr style=\"text-align: right;\">\n",
       "      <th></th>\n",
       "      <th>Trip_distance</th>\n",
       "    </tr>\n",
       "  </thead>\n",
       "  <tbody>\n",
       "    <tr>\n",
       "      <th>count</th>\n",
       "      <td>1.494926e+06</td>\n",
       "    </tr>\n",
       "    <tr>\n",
       "      <th>mean</th>\n",
       "      <td>2.968141e+00</td>\n",
       "    </tr>\n",
       "    <tr>\n",
       "      <th>std</th>\n",
       "      <td>3.076621e+00</td>\n",
       "    </tr>\n",
       "    <tr>\n",
       "      <th>min</th>\n",
       "      <td>0.000000e+00</td>\n",
       "    </tr>\n",
       "    <tr>\n",
       "      <th>25%</th>\n",
       "      <td>1.100000e+00</td>\n",
       "    </tr>\n",
       "    <tr>\n",
       "      <th>50%</th>\n",
       "      <td>1.980000e+00</td>\n",
       "    </tr>\n",
       "    <tr>\n",
       "      <th>75%</th>\n",
       "      <td>3.740000e+00</td>\n",
       "    </tr>\n",
       "    <tr>\n",
       "      <th>max</th>\n",
       "      <td>6.031000e+02</td>\n",
       "    </tr>\n",
       "  </tbody>\n",
       "</table>\n",
       "</div>"
      ],
      "text/plain": [
       "       Trip_distance\n",
       "count   1.494926e+06\n",
       "mean    2.968141e+00\n",
       "std     3.076621e+00\n",
       "min     0.000000e+00\n",
       "25%     1.100000e+00\n",
       "50%     1.980000e+00\n",
       "75%     3.740000e+00\n",
       "max     6.031000e+02"
      ]
     },
     "execution_count": 8,
     "metadata": {},
     "output_type": "execute_result"
    }
   ],
   "source": [
    "#Looking into trip_distance data\n",
    "print(\"Number of unique trip distances : {}\".format(data.Trip_distance.nunique()))\n",
    "\n",
    "print(\"Maximum trip distance: {}\".format(max(data.Trip_distance)))\n",
    "\n",
    "print(\"Mean trip distance: {}\".format(np.mean(data.Trip_distance)))\n",
    "\n",
    "print(\"Median trip distance: {}\".format(np.median(data.Trip_distance)))\n",
    "\n",
    "#Describe the trip distances\n",
    "pd.DataFrame(data.Trip_distance).describe()"
   ]
  },
  {
   "cell_type": "markdown",
   "metadata": {},
   "source": [
    "We can see from the above describe() function that most trip distances are very small. The median is about 2 km and the mean is 2.98Km. This leads us to think the highest point of 603 km is an outlier. In order to remove outliers, we can assume anything above 3 std above the mean as an outlier. https://docs.oracle.com/cd/E40248_01/epm.1112/cb_statistical/frameset.htm?ch07s02s10s01.html. In this case, however, this meant that even trips with trip distances of 11 miles were being considered outliers. Since 11 miles is a reasonable trip distance (especially for airport trips ), in this case, we can remove anything above 4 standard deviations above the mean.\n"
   ]
  },
  {
   "cell_type": "code",
   "execution_count": 9,
   "metadata": {},
   "outputs": [
    {
     "name": "stdout",
     "output_type": "stream",
     "text": [
      "Number of outliers removed: 13047\n"
     ]
    }
   ],
   "source": [
    "Trip_distance_withoutoutliers = data.Trip_distance[~((data.Trip_distance -data.Trip_distance.mean()).abs()  > 4*data.Trip_distance.std())]\n",
    "#To check how many points were outliers\n",
    "print(\"Number of outliers removed: {}\".format(data.shape[0] - len(Trip_distance_withoutoutliers)))\n",
    "\n"
   ]
  },
  {
   "cell_type": "code",
   "execution_count": 10,
   "metadata": {},
   "outputs": [
    {
     "data": {
      "image/png": "[encoded data removed]",
      "text/plain": [
       "<matplotlib.figure.Figure at 0xe3f2278>"
      ]
     },
     "metadata": {},
     "output_type": "display_data"
    }
   ],
   "source": [
    "#Plotting the histogram of Trip Distances\n",
    "\n",
    "f, (ax1, ax2) = plt.subplots(1,2,figsize = (12,5))\n",
    "sns.distplot(data.Trip_distance, kde = False, ax= ax1)\n",
    "ax1.set_title('Histogram with outliers')\n",
    "ax1.set_ylabel('Count')\n",
    "sns.distplot(Trip_distance_withoutoutliers, kde = False, ax = ax2)\n",
    "ax2.set_title('Histogram without outliers')\n",
    "ax2.set_ylabel('Count')\n",
    "\n",
    "plt.tight_layout()"
   ]
  },
  {
   "cell_type": "markdown",
   "metadata": {},
   "source": [
    "### Structure and Hypothesis"
   ]
  },
  {
   "cell_type": "markdown",
   "metadata": {},
   "source": [
    "**The distribution seems to be a right skewed distribution with positive skewness. It seems to fit a lognormal distribution **\n",
    "\n",
    "**The lognormal fit makes sense because trip distance cannot be negative**\n",
    "\n"
   ]
  },
  {
   "cell_type": "code",
   "execution_count": 11,
   "metadata": {},
   "outputs": [
    {
     "data": {
      "text/plain": [
       "<matplotlib.axes._subplots.AxesSubplot at 0xe3f2160>"
      ]
     },
     "execution_count": 11,
     "metadata": {},
     "output_type": "execute_result"
    },
    {
     "data": {
      "image/png": "[encoded data removed]",
      "text/plain": [
       "<matplotlib.figure.Figure at 0xe3e4a20>"
      ]
     },
     "metadata": {},
     "output_type": "display_data"
    }
   ],
   "source": [
    "sns.distplot(Trip_distance_withoutoutliers, kde = True)"
   ]
  },
  {
   "cell_type": "markdown",
   "metadata": {},
   "source": [
    "**The lognormal fit shows that the trip distance is not completely randomly distributed (does not follow a normal distribution). Rather people seem to take the taxi much more for short distances (below 20 km). This may tell us that people prefer to take taxis for smaller distances, and use other forms of transport for longer hauls. This is due to the fact that taxi fare is based on the distance travelled, and may get prohibitively expensive as distances increase. As distances increase, it makes more sense to use public transport/personal transport or rent transport by time. **\n",
    "\n",
    "\n",
    "** Below, I look at the mean Trip distances and number of trips across hours of the day to figure out other patterns.**\n"
   ]
  },
  {
   "cell_type": "code",
   "execution_count": 12,
   "metadata": {
    "collapsed": true
   },
   "outputs": [],
   "source": [
    "#Finding out pickup hours for the trips to detect patterns in trip distance\n",
    "import datetime\n",
    "#Applying striptime to the whole series to convert to timestamps\n",
    "\n",
    "data.lpep_pickup_datetime = map(lambda x: datetime.datetime.strptime(x,\"%Y-%m-%d %H:%M:%S\"), data.lpep_pickup_datetime)\n",
    "\n",
    "data.Lpep_dropoff_datetime= map(lambda x: datetime.datetime.strptime(x,\"%Y-%m-%d %H:%M:%S\"), data.Lpep_dropoff_datetime)\n",
    "\n",
    "#Creating pickup and dropoff hours variable\n",
    "\n",
    "data['pickup_hour'] = map(lambda x: x.hour, data.lpep_pickup_datetime)\n",
    "data['dropoff_hour'] = map(lambda x: x.hour, data.Lpep_dropoff_datetime)\n"
   ]
  },
  {
   "cell_type": "code",
   "execution_count": 13,
   "metadata": {},
   "outputs": [
    {
     "data": {
      "image/png": "[encoded data removed]",
      "text/plain": [
       "<matplotlib.figure.Figure at 0x18436d68>"
      ]
     },
     "metadata": {},
     "output_type": "display_data"
    }
   ],
   "source": [
    "df = data.groupby(by = 'pickup_hour').mean().reset_index()[['pickup_hour', 'Trip_distance']]\n",
    "fig, (ax0, ax1) = plt.subplots(nrows = 2, figsize = (10,5))\n",
    "sns.pointplot(x = 'pickup_hour', y = 'Trip_distance', data = df, ax=ax0)\n",
    "sns.countplot(x = 'pickup_hour', data = data, ax = ax1)\n",
    "\n",
    "ax0.set_ylabel('Trip distance')\n",
    "ax1.set_ylabel('Number of trips')\n",
    "ax1.set_xlabel('Pickup hour')\n",
    "ax0.set_xlabel('Pickup hour')\n",
    "\n",
    "plt.tight_layout()\n"
   ]
  },
  {
   "cell_type": "markdown",
   "metadata": {},
   "source": [
    "**We can see that trip distances are high during the early hours of the morning (peaking at 5 am), and are lowest during the rush hours both in the morning and evening. We can also see that the number of trips is highest (understandably) during the rush hours in the morning around 9 am and the evening around 6-8 pm. This shows that a lot of people seem to be taking taxis during rush hours, and these trips are usually short. This could mean that people use these taxis to travel to and from work, people prefer to take subways or other forms of transport when the roads are congested during rush hours if they have to travel long distances.  **\n"
   ]
  },
  {
   "cell_type": "markdown",
   "metadata": {},
   "source": [
    "## Question 3\n",
    "\n",
    "**•            Report mean and median trip distance grouped by hour of day.**\n",
    "\n",
    "**•            We’d like to get a rough sense of identifying trips that originate or terminate at one of the NYC area airports. Can you provide a count of how many transactions fit this criteria, the average fare, and any other interesting characteristics of these trips.**"
   ]
  },
  {
   "cell_type": "code",
   "execution_count": 14,
   "metadata": {},
   "outputs": [
    {
     "data": {
      "text/plain": [
       "329424"
      ]
     },
     "execution_count": 14,
     "metadata": {},
     "output_type": "execute_result"
    }
   ],
   "source": [
    "#Since we have pickup and drop off hours, we can group by both. They are not always equal\n",
    "data[data.pickup_hour != data.dropoff_hour].shape[0]"
   ]
  },
  {
   "cell_type": "code",
   "execution_count": 15,
   "metadata": {},
   "outputs": [
    {
     "data": {
      "text/plain": [
       "Text(0.5,1,u'Trip Distance Mean/Median by Pick-up hour')"
      ]
     },
     "execution_count": 15,
     "metadata": {},
     "output_type": "execute_result"
    },
    {
     "data": {
      "image/png": "[encoded data removed]",
      "text/plain": [
       "<matplotlib.figure.Figure at 0x1bbe6390>"
      ]
     },
     "metadata": {},
     "output_type": "display_data"
    }
   ],
   "source": [
    "#Grouping trip distance by pickup hour and plotting\n",
    "\n",
    "distance_pickuphour = pd.DataFrame(data[['Trip_distance', 'pickup_hour']].groupby(by = 'pickup_hour').mean().reset_index())\n",
    "\n",
    "median = pd.DataFrame(data[['Trip_distance', 'pickup_hour']].groupby(by= 'pickup_hour').median())\n",
    "\n",
    "distance_pickuphour = pd.concat([distance_pickuphour, median['Trip_distance']], axis = 1)\n",
    "\n",
    "distance_pickuphour.columns = ['Pickup_hour', 'Trip Distance Mean', 'Trip Distance Median']\n",
    "\n",
    "#Now plotting\n",
    "\n",
    "\n",
    "fig, ax = plt.subplots(figsize = (12,6))\n",
    "distance_pickuphour[['Trip Distance Mean','Trip Distance Median']].plot(ax=ax)\n",
    "\n",
    "plt.ylabel('Trip Distance Mean/Median')\n",
    "plt.xlabel('Pick-up hour')\n",
    "plt.title('Trip Distance Mean/Median by Pick-up hour')"
   ]
  },
  {
   "cell_type": "code",
   "execution_count": 16,
   "metadata": {},
   "outputs": [
    {
     "data": {
      "text/plain": [
       "Text(0.5,1,u'Trip Distance Mean/Median by Drop-Off hour')"
      ]
     },
     "execution_count": 16,
     "metadata": {},
     "output_type": "execute_result"
    },
    {
     "data": {
      "image/png": "[encoded data removed]",
      "text/plain": [
       "<matplotlib.figure.Figure at 0x1b38a780>"
      ]
     },
     "metadata": {},
     "output_type": "display_data"
    }
   ],
   "source": [
    "#Grouping trip distance by dropoff hour and plotting\n",
    "\n",
    "distance_dropoffhour = pd.DataFrame(data[['Trip_distance', 'dropoff_hour']].groupby(by = 'dropoff_hour').mean().reset_index())\n",
    "\n",
    "median = pd.DataFrame(data[['Trip_distance', 'dropoff_hour']].groupby(by= 'dropoff_hour').median())\n",
    "\n",
    "distance_dropoffhour = pd.concat([distance_dropoffhour, median['Trip_distance']], axis = 1)\n",
    "\n",
    "distance_dropoffhour.columns = ['Dropoff_hour', 'Trip Distance Mean', 'Trip Distance Median']\n",
    "\n",
    "#Now plotting\n",
    "\n",
    "\n",
    "fig, ax = plt.subplots(figsize = (12,6))\n",
    "distance_dropoffhour[['Trip Distance Mean','Trip Distance Median']].plot(ax=ax)\n",
    "plt.ylabel('Trip Distance Mean/Median')\n",
    "plt.xlabel('Drop-off hour')\n",
    "plt.title('Trip Distance Mean/Median by Drop-Off hour')"
   ]
  },
  {
   "cell_type": "markdown",
   "metadata": {},
   "source": [
    "From the above graphs, we can see that the maximum trip distance seems to be travelled around 5 hours after midnight (5 am). After\n",
    "this peak, the trip distance reduces, and reaches a low during the afternoon times. We can see an increase in the trip distance again towards midnight.\n"
   ]
  },
  {
   "cell_type": "markdown",
   "metadata": {},
   "source": [
    "### Airport trips"
   ]
  },
  {
   "cell_type": "markdown",
   "metadata": {},
   "source": [
    "From the dictionary of variables, we can see that the RateCodeIDs of 2 and 3 correspond to JFK and Newark respectively.\n",
    "\n",
    "However this RateCodeID leaves out an important airport in NYC, La Guardia. \n",
    "\n",
    "So we can choose an area around each airport, construct polygons on shapely and go from there. We can see how many trips originate or end within these polygons to determine the total number of airport trips.\n",
    "I use the  API on http://www.get-direction.com and Google Maps for the airport latitudes and longitudes, for the purpose of putting in an approximate buffer around the airports"
   ]
  },
  {
   "cell_type": "code",
   "execution_count": 17,
   "metadata": {},
   "outputs": [
    {
     "name": "stdout",
     "output_type": "stream",
     "text": [
      "Number of JFK and EWR trips using RateCodeID: 5552\n"
     ]
    }
   ],
   "source": [
    "#Initially using RateCodeID\n",
    "\n",
    "is_airport = data[((data['RateCodeID'] == 2 )| (data['RateCodeID'] == 3))]\n",
    "\n",
    "number_jfk_ewr = len(is_airport.index)\n",
    "\n",
    "print('Number of JFK and EWR trips using RateCodeID: {}'.format(number_jfk_ewr))\n"
   ]
  },
  {
   "cell_type": "markdown",
   "metadata": {},
   "source": [
    "The number of JFK and EWR trips using the RateCodeID field is 5552. This number seems to be low compared to the total number of taxi trips. Therefore, I decide to use Shapely for all the airports (JFK, La Guardia and EWR)"
   ]
  },
  {
   "cell_type": "code",
   "execution_count": 18,
   "metadata": {
    "collapsed": true
   },
   "outputs": [],
   "source": [
    "# La Guardia\n",
    "\n",
    "#Choosing 4 points around LGA from google maps\n",
    "\n",
    "lag = [(40.779077, -73.883858),(40.781669, -73.876438),(40.769749, -73.859251),\n",
    "       (40.771341, -73.875344)]\n",
    "\n",
    "\n",
    "poly_lag = Polygon(lag)\n",
    "# Function to check if a location is located inside the boundary of La Guardia\n",
    "def is_lga(loc,poly_lag = poly_lag):\n",
    "    return 1*(Point(loc).within(poly_lag))\n",
    "\n",
    "#Creating two LaGuadia Airport Variables\n",
    "data['is_LGAPickup'] = data[['Pickup_latitude','Pickup_longitude']].apply(lambda x:is_lga((x[0],x[1])),axis=1)\n",
    "data['is_LGADrop'] = data[['Dropoff_latitude','Dropoff_longitude']].apply(lambda x:is_lga((x[0],x[1])),axis=1)\n",
    "\n",
    "\n",
    "#JFK\n",
    "\n",
    "\n",
    "jfk = [(40.653420, -73.809264),(40.654266, -73.769020),(40.640388, -73.760155),\n",
    "       (40.637303, -73.786279), (40.640973, -73.774311)]\n",
    "\n",
    "poly_jfk = Polygon(jfk)\n",
    "# Function to check if a location is located inside the boundary of JFK\n",
    "def is_jfk(loc,poly_jfk = poly_jfk):\n",
    "    return 1*(Point(loc).within(poly_jfk))\n",
    "\n",
    "#Creating two LaGuadia Airport Variables\n",
    "data['is_JFKPickup'] = data[['Pickup_latitude','Pickup_longitude']].apply(lambda x:is_jfk((x[0],x[1])),axis=1)\n",
    "data['is_JFKDrop'] = data[['Dropoff_latitude','Dropoff_longitude']].apply(lambda x:is_jfk((x[0],x[1])),axis=1)\n",
    "\n",
    "\n",
    "#Newark\n",
    "\n",
    "newark = [(40.675556, -74.206971),(40.707122, -74.203244),(40.719580, -74.1593310),\n",
    "       (40.714051, -74.133754), (40.690789, -74.151392)]\n",
    "\n",
    "poly_newark = Polygon(newark)\n",
    "# Function to check if a location is located inside the boundary of Newark\n",
    "def is_newark(loc,poly_newark = poly_newark):\n",
    "    return 1*(Point(loc).within(poly_newark))\n",
    "\n",
    "#Creating two LaGuadia Airport Variables\n",
    "data['is_NewarkPickup'] = data[['Pickup_latitude','Pickup_longitude']].apply(lambda x:is_newark((x[0],x[1])),axis=1)\n",
    "data['is_NewarkDrop'] = data[['Dropoff_latitude','Dropoff_longitude']].apply(lambda x:is_newark((x[0],x[1])),axis=1)\n",
    "\n"
   ]
  },
  {
   "cell_type": "markdown",
   "metadata": {},
   "source": [
    "Looking into airport trips. Creating a variable 'airport' which will help in this analysis as well as prediction in the next step. This variable denotes the total number of pickups/dropoffs at each airport\n",
    "Combining all the airport variables into one variable - 'airport'. \n",
    "\n",
    "0: Not airport trip , 1:JFK, 2:LGA, 3:Newark. \n",
    "\n"
   ]
  },
  {
   "cell_type": "code",
   "execution_count": 19,
   "metadata": {
    "collapsed": true
   },
   "outputs": [],
   "source": [
    "#Creating the 'airport' variable\n",
    "data.loc[(data.is_JFKDrop == 1)|(data.is_JFKPickup == 1), 'airport'] = 1\n",
    "data.loc[(data.is_LGADrop == 1)|(data.is_LGAPickup == 1), 'airport'] = 2\n",
    "data.loc[(data.is_NewarkDrop == 1)|(data.is_NewarkPickup == 1), 'airport'] = 3\n",
    "data['airport']= data['airport'].fillna(0).astype(int)\n"
   ]
  },
  {
   "cell_type": "markdown",
   "metadata": {},
   "source": [
    "### Analysis of Airport trips"
   ]
  },
  {
   "cell_type": "code",
   "execution_count": 20,
   "metadata": {},
   "outputs": [
    {
     "name": "stdout",
     "output_type": "stream",
     "text": [
      "The number of trips originating and terminating at JFK airport are 7814 and the average fare is 41.3\n",
      "The number of trips originating and terminating at LGA airport are 16103 and the average fare is 21.04\n",
      "The number of trips originating and terminating at Newark airport are 738 and the average fare is 75.68\n"
     ]
    }
   ],
   "source": [
    "\n",
    "#How many transaction fit this criteria and the average fare for each airport\n",
    "airports= ['JFK', 'LGA', 'Newark']\n",
    "for i in range(1,4):\n",
    "    number_of_trips = data[data.airport == i].shape[0]\n",
    "    average_fare = round(data[data.airport == i]['Fare_amount'].mean(),2)\n",
    "    print(\"The number of trips originating and terminating at {} airport are {} and the average fare is {}\".format(airports[i-1], number_of_trips, average_fare))\n",
    "\n",
    "    \n"
   ]
  },
  {
   "cell_type": "code",
   "execution_count": 21,
   "metadata": {},
   "outputs": [
    {
     "name": "stdout",
     "output_type": "stream",
     "text": [
      "The average airport trip fare is : 29.1 and the average non-airport fare is 12.27\n"
     ]
    }
   ],
   "source": [
    "#Interesting characteristics of airport trips\n",
    "#First, the fare\n",
    "average_fare_airport = round (data[data.airport != 0]['Fare_amount'].mean(),2)\n",
    "average_fare_nonairport = round(data[data.airport == 0]['Fare_amount'].mean(),2)\n",
    "print('The average airport trip fare is : {} and the average non-airport fare is {}'.format(average_fare_airport, average_fare_nonairport))"
   ]
  },
  {
   "cell_type": "markdown",
   "metadata": {},
   "source": [
    "As we can see the average airport fare is much higher than the normal non-airport trip fare. This is understandable because airports\n",
    "are typically farther away from the places of living and cost more compared to a trip to work\n"
   ]
  },
  {
   "cell_type": "code",
   "execution_count": 22,
   "metadata": {},
   "outputs": [
    {
     "data": {
      "text/plain": [
       "<matplotlib.legend.Legend at 0x23810390>"
      ]
     },
     "execution_count": 22,
     "metadata": {},
     "output_type": "execute_result"
    },
    {
     "data": {
      "image/png": "[encoded data removed]",
      "text/plain": [
       "<matplotlib.figure.Figure at 0x1f018ef0>"
      ]
     },
     "metadata": {},
     "output_type": "display_data"
    }
   ],
   "source": [
    "#Airport trip distances\n",
    "#Airport trips\n",
    "data_airport= data.groupby(by=['pickup_hour','airport']).mean().reset_index()\n",
    "\n",
    "ax = sns.pointplot(x = 'pickup_hour', y = 'Trip_distance', hue = 'airport', data = data_airport)\n",
    "\n",
    "leg_handles = ax.get_legend_handles_labels()[0]\n",
    "\n",
    "ax.legend(leg_handles, ['Not airport', 'JFK', 'LGA', 'EWR'])\n"
   ]
  },
  {
   "cell_type": "markdown",
   "metadata": {},
   "source": [
    "As we can see, trip distances are more across pickup hours from and to airports. Newark airport trip seem the longest, understandably.\n",
    "La Guardia, being a local airport, has shorter trips, and JFK distances are between LGA and Newark\n",
    "\n",
    "Next, I look into the tolls amounts for airport trips"
   ]
  },
  {
   "cell_type": "code",
   "execution_count": 23,
   "metadata": {},
   "outputs": [
    {
     "name": "stdout",
     "output_type": "stream",
     "text": [
      "Mean tolls to and from airports are 1.36013871426 and normal trips are 0.102360816475\n",
      "EWR tolls are 9.57487804878\n"
     ]
    }
   ],
   "source": [
    "airport_tolls = data[data.airport != 0]['Tolls_amount'].mean()\n",
    "normal_tolls = data[data.airport == 0]['Tolls_amount'].mean()\n",
    "\n",
    "print('Mean tolls to and from airports are {} and normal trips are {}'.format(airport_tolls, normal_tolls))\n",
    "#Airport tolls are higher on average than normal tolls because the rides on Highways which have tolls as compared to city roads which don't\n",
    "\n",
    "airport_tolls_ewr = data[data.airport == 3]['Tolls_amount'].mean()\n",
    "print('EWR tolls are {}'.format(airport_tolls_ewr))\n"
   ]
  },
  {
   "cell_type": "markdown",
   "metadata": {},
   "source": [
    "EWR tolls are higher compared to other airports which makes sense since driving from NJ to NYC or vice versa involves turnpike tolls, Lincoln tunnel tolls and so on.\n",
    "\n",
    "Finally I examine the timing of the airport rides"
   ]
  },
  {
   "cell_type": "code",
   "execution_count": 24,
   "metadata": {},
   "outputs": [
    {
     "data": {
      "image/png": "[encoded data removed]",
      "text/plain": [
       "<matplotlib.figure.Figure at 0x23819b38>"
      ]
     },
     "metadata": {},
     "output_type": "display_data"
    }
   ],
   "source": [
    "#Timing of airport rides\n",
    "fig, (ax0, ax1) = plt.subplots(nrows = 2, figsize = (10,5))\n",
    "sns.countplot(x = 'pickup_hour', data = data[data.airport == 0], ax = ax0)\n",
    "sns.countplot(x = 'pickup_hour', hue = 'airport', data = data[data.airport != 0], ax= ax1)\n",
    "ax0.set_title('Non-airport trips - Count vs Time')\n",
    "ax1.set_title('Airport trips - Count vs Time')\n",
    "ax1.legend(('JFK', \"LGA\", \"EWR\"))\n",
    "plt.tight_layout()"
   ]
  },
  {
   "cell_type": "markdown",
   "metadata": {},
   "source": [
    "From the above graphs we can see that the busiest times to and from the airport are not the same as rush hours for normal trips.\n",
    "The trends across all airports remain the same in terms of busy times. 3 pm seems to be the busiest time for airport trips.\n",
    "To make sense of trip timings, we can take JFK airport as an example. 1pm-4pm are when most Europe flights arrive at this airport. Also, 5pm - 9pm are when most Euro flights depart.\n",
    "Since people usually reach airports ahead of time, the large number of trips from 2-5 pm makes sense. Similarly, most domestic and Asia-bound flights from JFK fly from 6-10 am, which justifies the large number of early morning riders we observe."
   ]
  },
  {
   "cell_type": "markdown",
   "metadata": {},
   "source": [
    "## Question 4\n",
    "\n",
    "**•            Build a derived variable for tip as a percentage of the total fare.**\n",
    "\n",
    "**•            Build a predictive model for tip as a percentage of the total fare. Use as much of the data as you like (or all of it). Provide an estimate of performance using an appropriate sample, and show your work.**"
   ]
  },
  {
   "cell_type": "markdown",
   "metadata": {},
   "source": [
    "## Data Cleaning\n"
   ]
  },
  {
   "cell_type": "code",
   "execution_count": 25,
   "metadata": {
    "collapsed": true
   },
   "outputs": [],
   "source": [
    "#1. Remove E_Hail fee. This column has a majority of NaNs and can be removed. \n",
    "\n",
    "data.drop(['Ehail_fee'], axis = 1, inplace = True)\n"
   ]
  },
  {
   "cell_type": "code",
   "execution_count": 26,
   "metadata": {
    "collapsed": true
   },
   "outputs": [],
   "source": [
    "#2. Trip type has 4 missing values. Replacing them by the most frequent trip type in one line\n",
    "\n",
    "data.loc[data[pd.isnull(data['Trip_type '])].index, 'Trip_type '] = data['Trip_type '].mode()\n",
    "\n",
    "data ['Trip_type '] = data['Trip_type '].fillna(1)\n",
    "\n",
    "data['Trip_type '] = data['Trip_type '].astype(int)"
   ]
  },
  {
   "cell_type": "code",
   "execution_count": 27,
   "metadata": {},
   "outputs": [
    {
     "name": "stdout",
     "output_type": "stream",
     "text": [
      "<class 'pandas.core.frame.DataFrame'>\n",
      "RangeIndex: 1494926 entries, 0 to 1494925\n",
      "Data columns (total 29 columns):\n",
      "VendorID                 1494926 non-null int64\n",
      "lpep_pickup_datetime     1494926 non-null datetime64[ns]\n",
      "Lpep_dropoff_datetime    1494926 non-null datetime64[ns]\n",
      "Store_and_fwd_flag       1494926 non-null object\n",
      "RateCodeID               1494926 non-null int64\n",
      "Pickup_longitude         1494926 non-null float64\n",
      "Pickup_latitude          1494926 non-null float64\n",
      "Dropoff_longitude        1494926 non-null float64\n",
      "Dropoff_latitude         1494926 non-null float64\n",
      "Passenger_count          1494926 non-null int64\n",
      "Trip_distance            1494926 non-null float64\n",
      "Fare_amount              1494926 non-null float64\n",
      "Extra                    1494926 non-null float64\n",
      "MTA_tax                  1494926 non-null float64\n",
      "Tip_amount               1494926 non-null float64\n",
      "Tolls_amount             1494926 non-null float64\n",
      "improvement_surcharge    1494926 non-null float64\n",
      "Total_amount             1494926 non-null float64\n",
      "Payment_type             1494926 non-null int64\n",
      "Trip_type                1494926 non-null int32\n",
      "pickup_hour              1494926 non-null int64\n",
      "dropoff_hour             1494926 non-null int64\n",
      "is_LGAPickup             1494926 non-null int64\n",
      "is_LGADrop               1494926 non-null int64\n",
      "is_JFKPickup             1494926 non-null int64\n",
      "is_JFKDrop               1494926 non-null int64\n",
      "is_NewarkPickup          1494926 non-null int64\n",
      "is_NewarkDrop            1494926 non-null int64\n",
      "airport                  1494926 non-null int32\n",
      "dtypes: datetime64[ns](2), float64(12), int32(2), int64(12), object(1)\n",
      "memory usage: 319.4+ MB\n"
     ]
    }
   ],
   "source": [
    "#Now that the missing values have been sorted out, I look into some negative and bad values in the data frame\n",
    "\n",
    "#3. Looking at the RateCodeID column, there seems to be an observation with a RateCode ID of 99. \n",
    "\n",
    "index_ratecodeid = data[~((data['RateCodeID']<=6) & (data['RateCodeID']>=1))].index\n",
    "\n",
    "#There seem to be six observations with a rate code ID of 99. We can replace this by the most frequent value of RateCodeID\n",
    "\n",
    "most_freq_ratecodeID = data.RateCodeID.mode()\n",
    "\n",
    "data.loc[index_ratecodeid, 'RateCodeID'] = 1\n",
    "\n",
    "data.info()"
   ]
  },
  {
   "cell_type": "code",
   "execution_count": 28,
   "metadata": {
    "collapsed": true
   },
   "outputs": [],
   "source": [
    "#Fare amount cannot be negative, 0 or lesser than minimum amount. The minimum amount is given in the article below\n",
    "\n",
    "#http://nymag.com/nymetro/urban/features/taxi/n_20286/\n",
    "\n",
    "data.loc[data[data['Fare_amount'] < 2.5].index,'Fare_amount'] = 0\n",
    "\n",
    "#Now calculating mean values of the valid Fare amount, I have already removed the negative values in the previous step\n",
    "#We can also regress the fare amounts on trip distance to figure out values for these\n",
    "\n",
    "mean_fare = data['Fare_amount'].mean()\n",
    "\n",
    "data.loc[data[data['Fare_amount'] == 0].index,'Fare_amount'] = mean_fare "
   ]
  },
  {
   "cell_type": "code",
   "execution_count": 29,
   "metadata": {},
   "outputs": [
    {
     "data": {
      "text/html": [
       "<div>\n",
       "<style>\n",
       "    .dataframe thead tr:only-child th {\n",
       "        text-align: right;\n",
       "    }\n",
       "\n",
       "    .dataframe thead th {\n",
       "        text-align: left;\n",
       "    }\n",
       "\n",
       "    .dataframe tbody tr th {\n",
       "        vertical-align: top;\n",
       "    }\n",
       "</style>\n",
       "<table border=\"1\" class=\"dataframe\">\n",
       "  <thead>\n",
       "    <tr style=\"text-align: right;\">\n",
       "      <th></th>\n",
       "      <th>VendorID</th>\n",
       "      <th>RateCodeID</th>\n",
       "      <th>Pickup_longitude</th>\n",
       "      <th>Pickup_latitude</th>\n",
       "      <th>Dropoff_longitude</th>\n",
       "      <th>Dropoff_latitude</th>\n",
       "      <th>Passenger_count</th>\n",
       "      <th>Trip_distance</th>\n",
       "      <th>Fare_amount</th>\n",
       "      <th>Extra</th>\n",
       "      <th>...</th>\n",
       "      <th>Trip_type</th>\n",
       "      <th>pickup_hour</th>\n",
       "      <th>dropoff_hour</th>\n",
       "      <th>is_LGAPickup</th>\n",
       "      <th>is_LGADrop</th>\n",
       "      <th>is_JFKPickup</th>\n",
       "      <th>is_JFKDrop</th>\n",
       "      <th>is_NewarkPickup</th>\n",
       "      <th>is_NewarkDrop</th>\n",
       "      <th>airport</th>\n",
       "    </tr>\n",
       "  </thead>\n",
       "  <tbody>\n",
       "    <tr>\n",
       "      <th>count</th>\n",
       "      <td>1.494926e+06</td>\n",
       "      <td>1.494926e+06</td>\n",
       "      <td>1.494926e+06</td>\n",
       "      <td>1.494926e+06</td>\n",
       "      <td>1.494926e+06</td>\n",
       "      <td>1.494926e+06</td>\n",
       "      <td>1.494926e+06</td>\n",
       "      <td>1.494926e+06</td>\n",
       "      <td>1.494926e+06</td>\n",
       "      <td>1.494926e+06</td>\n",
       "      <td>...</td>\n",
       "      <td>1.494926e+06</td>\n",
       "      <td>1.494926e+06</td>\n",
       "      <td>1.494926e+06</td>\n",
       "      <td>1.494926e+06</td>\n",
       "      <td>1.494926e+06</td>\n",
       "      <td>1.494926e+06</td>\n",
       "      <td>1.494926e+06</td>\n",
       "      <td>1.494926e+06</td>\n",
       "      <td>1.494926e+06</td>\n",
       "      <td>1.494926e+06</td>\n",
       "    </tr>\n",
       "    <tr>\n",
       "      <th>mean</th>\n",
       "      <td>1.782045e+00</td>\n",
       "      <td>1.097260e+00</td>\n",
       "      <td>-7.383084e+01</td>\n",
       "      <td>4.069114e+01</td>\n",
       "      <td>-7.383728e+01</td>\n",
       "      <td>4.069291e+01</td>\n",
       "      <td>1.370598e+00</td>\n",
       "      <td>2.968141e+00</td>\n",
       "      <td>1.262214e+01</td>\n",
       "      <td>3.512800e-01</td>\n",
       "      <td>...</td>\n",
       "      <td>1.022353e+00</td>\n",
       "      <td>1.353407e+01</td>\n",
       "      <td>1.347794e+01</td>\n",
       "      <td>1.391373e-04</td>\n",
       "      <td>1.072561e-02</td>\n",
       "      <td>1.177316e-04</td>\n",
       "      <td>5.192230e-03</td>\n",
       "      <td>3.010182e-05</td>\n",
       "      <td>4.909942e-04</td>\n",
       "      <td>2.825157e-02</td>\n",
       "    </tr>\n",
       "    <tr>\n",
       "      <th>std</th>\n",
       "      <td>4.128570e-01</td>\n",
       "      <td>6.049419e-01</td>\n",
       "      <td>2.776082e+00</td>\n",
       "      <td>1.530882e+00</td>\n",
       "      <td>2.677911e+00</td>\n",
       "      <td>1.476698e+00</td>\n",
       "      <td>1.039426e+00</td>\n",
       "      <td>3.076621e+00</td>\n",
       "      <td>9.950600e+00</td>\n",
       "      <td>3.663096e-01</td>\n",
       "      <td>...</td>\n",
       "      <td>1.478286e-01</td>\n",
       "      <td>6.799624e+00</td>\n",
       "      <td>6.892356e+00</td>\n",
       "      <td>1.179483e-02</td>\n",
       "      <td>1.030077e-01</td>\n",
       "      <td>1.084978e-02</td>\n",
       "      <td>7.186984e-02</td>\n",
       "      <td>5.486432e-03</td>\n",
       "      <td>2.215296e-02</td>\n",
       "      <td>2.279452e-01</td>\n",
       "    </tr>\n",
       "    <tr>\n",
       "      <th>min</th>\n",
       "      <td>1.000000e+00</td>\n",
       "      <td>1.000000e+00</td>\n",
       "      <td>-8.331908e+01</td>\n",
       "      <td>0.000000e+00</td>\n",
       "      <td>-8.342784e+01</td>\n",
       "      <td>0.000000e+00</td>\n",
       "      <td>0.000000e+00</td>\n",
       "      <td>0.000000e+00</td>\n",
       "      <td>2.500000e+00</td>\n",
       "      <td>-1.000000e+00</td>\n",
       "      <td>...</td>\n",
       "      <td>1.000000e+00</td>\n",
       "      <td>0.000000e+00</td>\n",
       "      <td>0.000000e+00</td>\n",
       "      <td>0.000000e+00</td>\n",
       "      <td>0.000000e+00</td>\n",
       "      <td>0.000000e+00</td>\n",
       "      <td>0.000000e+00</td>\n",
       "      <td>0.000000e+00</td>\n",
       "      <td>0.000000e+00</td>\n",
       "      <td>0.000000e+00</td>\n",
       "    </tr>\n",
       "    <tr>\n",
       "      <th>25%</th>\n",
       "      <td>2.000000e+00</td>\n",
       "      <td>1.000000e+00</td>\n",
       "      <td>-7.395961e+01</td>\n",
       "      <td>4.069895e+01</td>\n",
       "      <td>-7.396782e+01</td>\n",
       "      <td>4.069878e+01</td>\n",
       "      <td>1.000000e+00</td>\n",
       "      <td>1.100000e+00</td>\n",
       "      <td>6.500000e+00</td>\n",
       "      <td>0.000000e+00</td>\n",
       "      <td>...</td>\n",
       "      <td>1.000000e+00</td>\n",
       "      <td>9.000000e+00</td>\n",
       "      <td>9.000000e+00</td>\n",
       "      <td>0.000000e+00</td>\n",
       "      <td>0.000000e+00</td>\n",
       "      <td>0.000000e+00</td>\n",
       "      <td>0.000000e+00</td>\n",
       "      <td>0.000000e+00</td>\n",
       "      <td>0.000000e+00</td>\n",
       "      <td>0.000000e+00</td>\n",
       "    </tr>\n",
       "    <tr>\n",
       "      <th>50%</th>\n",
       "      <td>2.000000e+00</td>\n",
       "      <td>1.000000e+00</td>\n",
       "      <td>-7.394536e+01</td>\n",
       "      <td>4.074674e+01</td>\n",
       "      <td>-7.394504e+01</td>\n",
       "      <td>4.074728e+01</td>\n",
       "      <td>1.000000e+00</td>\n",
       "      <td>1.980000e+00</td>\n",
       "      <td>9.500000e+00</td>\n",
       "      <td>5.000000e-01</td>\n",
       "      <td>...</td>\n",
       "      <td>1.000000e+00</td>\n",
       "      <td>1.500000e+01</td>\n",
       "      <td>1.500000e+01</td>\n",
       "      <td>0.000000e+00</td>\n",
       "      <td>0.000000e+00</td>\n",
       "      <td>0.000000e+00</td>\n",
       "      <td>0.000000e+00</td>\n",
       "      <td>0.000000e+00</td>\n",
       "      <td>0.000000e+00</td>\n",
       "      <td>0.000000e+00</td>\n",
       "    </tr>\n",
       "    <tr>\n",
       "      <th>75%</th>\n",
       "      <td>2.000000e+00</td>\n",
       "      <td>1.000000e+00</td>\n",
       "      <td>-7.391748e+01</td>\n",
       "      <td>4.080255e+01</td>\n",
       "      <td>-7.391013e+01</td>\n",
       "      <td>4.079015e+01</td>\n",
       "      <td>1.000000e+00</td>\n",
       "      <td>3.740000e+00</td>\n",
       "      <td>1.550000e+01</td>\n",
       "      <td>5.000000e-01</td>\n",
       "      <td>...</td>\n",
       "      <td>1.000000e+00</td>\n",
       "      <td>1.900000e+01</td>\n",
       "      <td>1.900000e+01</td>\n",
       "      <td>0.000000e+00</td>\n",
       "      <td>0.000000e+00</td>\n",
       "      <td>0.000000e+00</td>\n",
       "      <td>0.000000e+00</td>\n",
       "      <td>0.000000e+00</td>\n",
       "      <td>0.000000e+00</td>\n",
       "      <td>0.000000e+00</td>\n",
       "    </tr>\n",
       "    <tr>\n",
       "      <th>max</th>\n",
       "      <td>2.000000e+00</td>\n",
       "      <td>6.000000e+00</td>\n",
       "      <td>0.000000e+00</td>\n",
       "      <td>4.317726e+01</td>\n",
       "      <td>0.000000e+00</td>\n",
       "      <td>4.279934e+01</td>\n",
       "      <td>9.000000e+00</td>\n",
       "      <td>6.031000e+02</td>\n",
       "      <td>5.805000e+02</td>\n",
       "      <td>1.200000e+01</td>\n",
       "      <td>...</td>\n",
       "      <td>2.000000e+00</td>\n",
       "      <td>2.300000e+01</td>\n",
       "      <td>2.300000e+01</td>\n",
       "      <td>1.000000e+00</td>\n",
       "      <td>1.000000e+00</td>\n",
       "      <td>1.000000e+00</td>\n",
       "      <td>1.000000e+00</td>\n",
       "      <td>1.000000e+00</td>\n",
       "      <td>1.000000e+00</td>\n",
       "      <td>3.000000e+00</td>\n",
       "    </tr>\n",
       "  </tbody>\n",
       "</table>\n",
       "<p>8 rows × 26 columns</p>\n",
       "</div>"
      ],
      "text/plain": [
       "           VendorID    RateCodeID  Pickup_longitude  Pickup_latitude  \\\n",
       "count  1.494926e+06  1.494926e+06      1.494926e+06     1.494926e+06   \n",
       "mean   1.782045e+00  1.097260e+00     -7.383084e+01     4.069114e+01   \n",
       "std    4.128570e-01  6.049419e-01      2.776082e+00     1.530882e+00   \n",
       "min    1.000000e+00  1.000000e+00     -8.331908e+01     0.000000e+00   \n",
       "25%    2.000000e+00  1.000000e+00     -7.395961e+01     4.069895e+01   \n",
       "50%    2.000000e+00  1.000000e+00     -7.394536e+01     4.074674e+01   \n",
       "75%    2.000000e+00  1.000000e+00     -7.391748e+01     4.080255e+01   \n",
       "max    2.000000e+00  6.000000e+00      0.000000e+00     4.317726e+01   \n",
       "\n",
       "       Dropoff_longitude  Dropoff_latitude  Passenger_count  Trip_distance  \\\n",
       "count       1.494926e+06      1.494926e+06     1.494926e+06   1.494926e+06   \n",
       "mean       -7.383728e+01      4.069291e+01     1.370598e+00   2.968141e+00   \n",
       "std         2.677911e+00      1.476698e+00     1.039426e+00   3.076621e+00   \n",
       "min        -8.342784e+01      0.000000e+00     0.000000e+00   0.000000e+00   \n",
       "25%        -7.396782e+01      4.069878e+01     1.000000e+00   1.100000e+00   \n",
       "50%        -7.394504e+01      4.074728e+01     1.000000e+00   1.980000e+00   \n",
       "75%        -7.391013e+01      4.079015e+01     1.000000e+00   3.740000e+00   \n",
       "max         0.000000e+00      4.279934e+01     9.000000e+00   6.031000e+02   \n",
       "\n",
       "        Fare_amount         Extra      ...         Trip_type    pickup_hour  \\\n",
       "count  1.494926e+06  1.494926e+06      ...       1.494926e+06  1.494926e+06   \n",
       "mean   1.262214e+01  3.512800e-01      ...       1.022353e+00  1.353407e+01   \n",
       "std    9.950600e+00  3.663096e-01      ...       1.478286e-01  6.799624e+00   \n",
       "min    2.500000e+00 -1.000000e+00      ...       1.000000e+00  0.000000e+00   \n",
       "25%    6.500000e+00  0.000000e+00      ...       1.000000e+00  9.000000e+00   \n",
       "50%    9.500000e+00  5.000000e-01      ...       1.000000e+00  1.500000e+01   \n",
       "75%    1.550000e+01  5.000000e-01      ...       1.000000e+00  1.900000e+01   \n",
       "max    5.805000e+02  1.200000e+01      ...       2.000000e+00  2.300000e+01   \n",
       "\n",
       "       dropoff_hour  is_LGAPickup    is_LGADrop  is_JFKPickup    is_JFKDrop  \\\n",
       "count  1.494926e+06  1.494926e+06  1.494926e+06  1.494926e+06  1.494926e+06   \n",
       "mean   1.347794e+01  1.391373e-04  1.072561e-02  1.177316e-04  5.192230e-03   \n",
       "std    6.892356e+00  1.179483e-02  1.030077e-01  1.084978e-02  7.186984e-02   \n",
       "min    0.000000e+00  0.000000e+00  0.000000e+00  0.000000e+00  0.000000e+00   \n",
       "25%    9.000000e+00  0.000000e+00  0.000000e+00  0.000000e+00  0.000000e+00   \n",
       "50%    1.500000e+01  0.000000e+00  0.000000e+00  0.000000e+00  0.000000e+00   \n",
       "75%    1.900000e+01  0.000000e+00  0.000000e+00  0.000000e+00  0.000000e+00   \n",
       "max    2.300000e+01  1.000000e+00  1.000000e+00  1.000000e+00  1.000000e+00   \n",
       "\n",
       "       is_NewarkPickup  is_NewarkDrop       airport  \n",
       "count     1.494926e+06   1.494926e+06  1.494926e+06  \n",
       "mean      3.010182e-05   4.909942e-04  2.825157e-02  \n",
       "std       5.486432e-03   2.215296e-02  2.279452e-01  \n",
       "min       0.000000e+00   0.000000e+00  0.000000e+00  \n",
       "25%       0.000000e+00   0.000000e+00  0.000000e+00  \n",
       "50%       0.000000e+00   0.000000e+00  0.000000e+00  \n",
       "75%       0.000000e+00   0.000000e+00  0.000000e+00  \n",
       "max       1.000000e+00   1.000000e+00  3.000000e+00  \n",
       "\n",
       "[8 rows x 26 columns]"
      ]
     },
     "execution_count": 29,
     "metadata": {},
     "output_type": "execute_result"
    }
   ],
   "source": [
    "#Doing the same for total amount\n",
    "data.loc[data[data['Total_amount'] < 2.5].index,'Total_amount'] = 0\n",
    "mean_total_fare = data['Total_amount'].mean()\n",
    "data.loc[data[data['Total_amount'] == 0].index,'Total_amount'] = mean_total_fare\n",
    "\n",
    "data.describe()"
   ]
  },
  {
   "cell_type": "code",
   "execution_count": 30,
   "metadata": {
    "collapsed": true
   },
   "outputs": [],
   "source": [
    "#Tip amount, surcharge, Extra and Tolls amount cannot be negative. Replacing negative values of these variables with mean positive values\n",
    "#Making a copy of the data at this stage\n",
    "data_copy = data.copy()\n",
    "\n",
    "amount = ['Tip_amount', 'Tolls_amount', 'improvement_surcharge', 'Extra']\n",
    "\n",
    "for col in amount:\n",
    "    data.loc[data[col] < 0, col] = data[data[col] >= 0][col].mean()\n",
    "    "
   ]
  },
  {
   "cell_type": "markdown",
   "metadata": {},
   "source": [
    "The data looks good now. As a final step, we can drop the Is_airport_pickup and Is_airport_dropff variables as the data is captured in the 'airport' variable"
   ]
  },
  {
   "cell_type": "code",
   "execution_count": 31,
   "metadata": {
    "collapsed": true
   },
   "outputs": [],
   "source": [
    "data.drop(['is_JFKPickup','is_JFKDrop','is_NewarkPickup','is_NewarkDrop','is_LGAPickup', 'is_LGADrop'], axis =1,inplace = True)"
   ]
  },
  {
   "cell_type": "markdown",
   "metadata": {},
   "source": [
    "## Feature engineering"
   ]
  },
  {
   "cell_type": "markdown",
   "metadata": {},
   "source": [
    "In this section, I add additional features to the data, which might be relevant during tip prediction"
   ]
  },
  {
   "cell_type": "code",
   "execution_count": 32,
   "metadata": {
    "collapsed": true
   },
   "outputs": [],
   "source": [
    "#Day of the trip could be a possible feature\n",
    "data['Day_of_trip']  = map(lambda x:x.weekday(), data.lpep_pickup_datetime)"
   ]
  },
  {
   "cell_type": "code",
   "execution_count": 33,
   "metadata": {
    "collapsed": true
   },
   "outputs": [],
   "source": [
    "#Trip duration is another possible feature\n",
    "Trip_time = (data.Lpep_dropoff_datetime - data.lpep_pickup_datetime)\n",
    "data['Trip_time']= map(lambda x:round(x.total_seconds(),2), Trip_time)"
   ]
  },
  {
   "cell_type": "markdown",
   "metadata": {},
   "source": [
    "Another feature could be 'is_PayDay'. I would like to look at whether people tip more on their paydays. 9/11/2015 and 9/25/2015 were paydays according to the calendar in NYC\n",
    "http://www.nyc.gov/html/opa/downloads/pdf/2015_Pay_Calendar.pdf\n"
   ]
  },
  {
   "cell_type": "code",
   "execution_count": 34,
   "metadata": {
    "collapsed": true
   },
   "outputs": [],
   "source": [
    "day = map(lambda x: x.day,data.lpep_pickup_datetime)\n",
    "indices = [i for i, x in enumerate(day) if x == 25 or x == 11]\n",
    "data.loc[indices, 'is_PayDay'] = 1\n",
    "data.is_PayDay.fillna(0, inplace = True)\n",
    "data.is_PayDay = data.is_PayDay.astype(int)\n"
   ]
  },
  {
   "cell_type": "markdown",
   "metadata": {},
   "source": [
    "One-hot encoding the store and forward flag"
   ]
  },
  {
   "cell_type": "code",
   "execution_count": 35,
   "metadata": {
    "collapsed": true
   },
   "outputs": [],
   "source": [
    "data['Store_and_fwd_flag']= pd.get_dummies(data.Store_and_fwd_flag, drop_first=True)"
   ]
  },
  {
   "cell_type": "markdown",
   "metadata": {},
   "source": [
    "Another possible feature could indicate whether the trip was in daylight or the dark. This could be another possible feature\n",
    "We can look at the pick up time of the trip for this purpose. Drop off time might be in daylight, but we want to examine when the driver picked up the passenger. \n",
    "\n"
   ]
  },
  {
   "cell_type": "code",
   "execution_count": 36,
   "metadata": {
    "collapsed": true
   },
   "outputs": [],
   "source": [
    "hour_of_day = map(lambda x:x.hour, data.lpep_pickup_datetime)\n",
    "#0-6:Dark, 7-18: Light, 18-0\n",
    "\n",
    "light_dict = {'Dark': [0,1,2,3,4,5,6], 'Light':[7,8,9,10,11,12,13,14,15,16,17,18], 'Dark':[19,20,21,22,23]} \n",
    "\n",
    "data['hour_light_observed'] = hour_of_day \n",
    " \n",
    "data.loc[data.hour_light_observed > 18, 'light_during_trip'] = 0\n",
    "data.loc[data.hour_light_observed <= 6, 'light_during_trip'] = 0\n",
    "data.loc[(data.hour_light_observed <= 18)&(data.hour_light_observed > 6), 'light_during_trip'] = 1\n",
    "\n",
    "data_copy = data.copy()\n",
    "data.drop(['hour_light_observed'], inplace = True, axis = 1)\n"
   ]
  },
  {
   "cell_type": "markdown",
   "metadata": {},
   "source": [
    "A very important feature which could influence tips is the **speed** of the taxi. "
   ]
  },
  {
   "cell_type": "code",
   "execution_count": 37,
   "metadata": {
    "collapsed": true
   },
   "outputs": [],
   "source": [
    "#Adding the speed of the trip in as a feature\n",
    "data['Speed'] = (data['Trip_distance']/ data['Trip_time'])*3600\n",
    "data.Speed.isnull().any()\n",
    "\n",
    "#Handling infinity and nan in speeds\n",
    "data ['Speed'] = data['Speed'].replace([np.inf], np.NaN)\n",
    "data['Speed'] = data['Speed'].fillna(np.mean(data['Speed']))\n"
   ]
  },
  {
   "cell_type": "markdown",
   "metadata": {},
   "source": [
    "One feature I had tried to add was the **borough** in NYC each trip originates and ends in. However, because of time considerations, I decided against this approach. This is the code for this approach"
   ]
  },
  {
   "cell_type": "code",
   "execution_count": 38,
   "metadata": {
    "collapsed": true
   },
   "outputs": [],
   "source": [
    "#NYC Borough boundaries\n",
    "#https://data.cityofnewyork.us/City-Government/Borough-Boundaries/tqmj-j8zm\n",
    "# import json, requests\n",
    "\n",
    "# with open('Borough Boundaries.geojson') as f:\n",
    "#     borough_data = json.load(f)\n",
    "\n",
    "# # Get Multipolygons using Shapely\n",
    "\n",
    "# boroughs_nyc = {}\n",
    "# for b in borough_data['features']:\n",
    "#     name = b['properties']['boro_name']\n",
    "#     code = b['properties']['boro_code']\n",
    "#     polygons = []\n",
    "#     for p in b['geometry']['coordinates']:\n",
    "#         polygons.append(Polygon(p[0]))\n",
    "#     boroughs_nyc[code] = {'name':name,'polygon':MultiPolygon(polygons)}\n",
    "    \n",
    "# #How to find boro of a given latitude longitude: Find which multipolygon it falls under\n",
    "# #Manhattan:1, Staten Island: 5, Brooklyn: 2, Queens : 4, Bronx: 3\n",
    "\n",
    "# def find_boro_name(point_input):\n",
    "#     boroname = 0\n",
    "#     for name,boro in boroughs_nyc.iteritems():\n",
    "#         if boro['polygon'].contains(point_input):\n",
    "#             boroname = name\n",
    "#             break\n",
    "#     return boroname\n",
    "\n",
    "#Try to speed up processing. This is too computationally intensive. So we will do this only for the samples we finally consider\n",
    "#pickup_locations = map(lambda x: find_boro_name(x), pickup_points[1:1000])\n",
    "#dropoff_locations = map(lambda x: find_boro_name(x), dropoff_points[1:1000])\n"
   ]
  },
  {
   "cell_type": "markdown",
   "metadata": {},
   "source": [
    "Feature extraction does not end here. As part of EDA, if I come across valuable features, I will add them in "
   ]
  },
  {
   "cell_type": "markdown",
   "metadata": {},
   "source": [
    "## Creating the target variable - Tip percentage"
   ]
  },
  {
   "cell_type": "code",
   "execution_count": 39,
   "metadata": {
    "collapsed": true
   },
   "outputs": [],
   "source": [
    "data['Tip_Percent'] = (data.Tip_amount/data.Total_amount)*100"
   ]
  },
  {
   "cell_type": "code",
   "execution_count": 40,
   "metadata": {},
   "outputs": [
    {
     "data": {
      "text/plain": [
       "count    1.494926e+06\n",
       "mean     6.634262e+00\n",
       "std      8.866441e+00\n",
       "min      0.000000e+00\n",
       "25%      0.000000e+00\n",
       "50%      0.000000e+00\n",
       "75%      1.666667e+01\n",
       "max      1.000000e+02\n",
       "Name: Tip_Percent, dtype: float64"
      ]
     },
     "execution_count": 40,
     "metadata": {},
     "output_type": "execute_result"
    },
    {
     "data": {
      "image/png": "[encoded data removed]",
      "text/plain": [
       "<matplotlib.figure.Figure at 0x258457f0>"
      ]
     },
     "metadata": {},
     "output_type": "display_data"
    }
   ],
   "source": [
    "#Distribution of Tip percent\n",
    "\n",
    "sns.distplot(data['Tip_Percent'], kde = False)\n",
    "\n",
    "data['Tip_Percent'].describe()\n"
   ]
  },
  {
   "cell_type": "markdown",
   "metadata": {},
   "source": [
    "From the histogram as well as describe() a large proportion of tips are seen to be 0%. we can count the number of 0% tips"
   ]
  },
  {
   "cell_type": "code",
   "execution_count": 41,
   "metadata": {},
   "outputs": [
    {
     "name": "stdout",
     "output_type": "stream",
     "text": [
      "Percentage of transactions with zero tip: 59.6789406298\n"
     ]
    }
   ],
   "source": [
    "#Counting the number of trips with 0% tips\n",
    "from __future__ import division \n",
    "num_zero_tip = len(data[data.Tip_Percent == 0].index)\n",
    "total_trips = data.shape[0]\n",
    "percentage_zero_tip = 100*(num_zero_tip/total_trips)\n",
    "print(\"Percentage of transactions with zero tip: {}\".format(percentage_zero_tip))"
   ]
  },
  {
   "cell_type": "markdown",
   "metadata": {},
   "source": [
    "We can see that a large number of transactions have no tip. We can use a Gradient Boosting Regressor or a Random forest Regressor to predict the tip percentage\n"
   ]
  },
  {
   "cell_type": "markdown",
   "metadata": {},
   "source": [
    "### Exploratory Data Analysis"
   ]
  },
  {
   "cell_type": "markdown",
   "metadata": {},
   "source": [
    "We can look at the relationship between tip percentage and pick-up hour"
   ]
  },
  {
   "cell_type": "code",
   "execution_count": 42,
   "metadata": {},
   "outputs": [
    {
     "data": {
      "text/plain": [
       "Text(0,0.5,u'Tip Percent')"
      ]
     },
     "execution_count": 42,
     "metadata": {},
     "output_type": "execute_result"
    },
    {
     "data": {
      "image/png": "[encoded data removed]",
      "text/plain": [
       "<matplotlib.figure.Figure at 0x15eb81d0>"
      ]
     },
     "metadata": {},
     "output_type": "display_data"
    }
   ],
   "source": [
    "#Tip percentage by pick up hour\n",
    "pickup_hour_mean_tip = data.groupby(['pickup_hour', 'light_during_trip']).mean()['Tip_Percent'].reset_index()\n",
    "ax = sns.pointplot(x = 'pickup_hour', y = 'Tip_Percent', hue = 'light_during_trip', data = pickup_hour_mean_tip, fit_reg= False)\n",
    "ax.set_title('Tip Percentage vs Pick-up hour')\n",
    "ax.set_xlabel('Pick-up hour')\n",
    "ax.set_ylabel('Tip Percent')"
   ]
  },
  {
   "cell_type": "markdown",
   "metadata": {},
   "source": [
    "We can see that the tips seem to be on an upward trend during night. Also, tips seem to be high during morning rush hours, and relatively high during evening rush hours. It seems like people might be tipping more when they want to travel to office and so on. Tips go down once rush hour ceases. \n"
   ]
  },
  {
   "cell_type": "code",
   "execution_count": 43,
   "metadata": {},
   "outputs": [
    {
     "name": "stdout",
     "output_type": "stream",
     "text": [
      "The mean tip percentage among the transactions which yielded a tip was 16.45\n"
     ]
    },
    {
     "data": {
      "image/png": "[encoded data removed]",
      "text/plain": [
       "<matplotlib.figure.Figure at 0x1b355f28>"
      ]
     },
     "metadata": {},
     "output_type": "display_data"
    }
   ],
   "source": [
    "#Distribution of Tip Percentage\n",
    "\n",
    "# Here, we just examine the transactions that yielded a tip\n",
    "data_with_tip = data[data.Tip_amount > 0]\n",
    "\n",
    "sns.distplot(data_with_tip['Tip_Percent'], kde= True)\n",
    "\n",
    "print(\"The mean tip percentage among the transactions which yielded a tip was {}\".format(round(data_with_tip.Tip_Percent.mean(),2)))\n",
    "\n"
   ]
  },
  {
   "cell_type": "code",
   "execution_count": 44,
   "metadata": {},
   "outputs": [
    {
     "name": "stderr",
     "output_type": "stream",
     "text": [
      "C:\\Users\\Madhu\\Anaconda2\\lib\\site-packages\\ipykernel_launcher.py:3: SettingWithCopyWarning: \n",
      "A value is trying to be set on a copy of a slice from a DataFrame.\n",
      "Try using .loc[row_indexer,col_indexer] = value instead\n",
      "\n",
      "See the caveats in the documentation: http://pandas.pydata.org/pandas-docs/stable/indexing.html#indexing-view-versus-copy\n",
      "  This is separate from the ipykernel package so we can avoid doing imports until\n"
     ]
    },
    {
     "data": {
      "image/png": "[encoded data removed]",
      "text/plain": [
       "<matplotlib.figure.Figure at 0x1614c048>"
      ]
     },
     "metadata": {},
     "output_type": "display_data"
    }
   ],
   "source": [
    "#Tip Percentage and Speed \n",
    "data_without_speed_outliers = data[data.Speed < 100]\n",
    "data_without_speed_outliers['Speed_quantile'], edges = pd.qcut(data_without_speed_outliers.Speed, 20, retbins= True)\n",
    "data_by_speed = data_without_speed_outliers.groupby(by= 'Speed_quantile').mean().reset_index()[['Speed_quantile', 'Tip_Percent']]\n",
    "\n",
    "data_by_speed['Upper_bins'] = map(lambda x: round(x,1), edges[1:])\n",
    "\n",
    "#Plotting speed vs tip percentage\n",
    "fig, ax = plt.subplots(figsize=(10,5))\n",
    "sns.pointplot(x = 'Upper_bins', y = 'Tip_Percent', data = data_by_speed, ax = ax)\n",
    "ax.set_title('Tip Percentage vs Speed')\n",
    "ax.set_xlabel('Speed')\n",
    "plt.tight_layout()\n"
   ]
  },
  {
   "cell_type": "markdown",
   "metadata": {},
   "source": [
    "We can see that the tip percentage seems to increase with speed. This could be because people might want to reward their drivers for driving faster, till a certain point. After a certain speed is hit, the tip percents seems to start decreasing. This could be because people do not want the taxis to go too fast, and might decrease the tips if they do. Overall, there seems to exist a strong relationship between the tip percentage and speed\n",
    "\n",
    "Next we can examine the relationship between Tip Percentage and Payment type"
   ]
  },
  {
   "cell_type": "code",
   "execution_count": 45,
   "metadata": {},
   "outputs": [
    {
     "data": {
      "image/png": "[encoded data removed]",
      "text/plain": [
       "<matplotlib.figure.Figure at 0x160ebf28>"
      ]
     },
     "metadata": {},
     "output_type": "display_data"
    }
   ],
   "source": [
    "fig, (ax1,ax2) = plt.subplots(ncols=2, nrows = 1, figsize = (10,4))\n",
    "sns.countplot(x = 'Payment_type', data = data[data.Tip_amount>0], ax = ax1)\n",
    "sns.countplot(x = 'Payment_type', data = data, ax = ax2)\n",
    "ax1.set_title('Payment type for non-zero tips')\n",
    "ax2.set_title('Payment type for all trips')\n",
    "plt.tight_layout()\n"
   ]
  },
  {
   "cell_type": "markdown",
   "metadata": {},
   "source": [
    "Here, 1: Credit card, 2: Cash, 3: No charge, 4: Dispute, 5: Unknown"
   ]
  },
  {
   "cell_type": "markdown",
   "metadata": {},
   "source": [
    "One observation is that almost all the transactions which include tips have been done using credit cards. Though a large number of payments have been made using cash, not many of these yielded a tip. This shows that the payment type could be a very important indicator of tip percentage, with credit card transactions having a large proportion of non-zero tips. One reason for this could be that drivers might not have recorded cash tips in the system, whereas tips using credit cards are automatically entered in the system\n",
    "\n",
    "Another important feature could be the **fare** amount"
   ]
  },
  {
   "cell_type": "code",
   "execution_count": 46,
   "metadata": {},
   "outputs": [
    {
     "data": {
      "text/plain": [
       "<seaborn.axisgrid.JointGrid at 0x160ad0f0>"
      ]
     },
     "execution_count": 46,
     "metadata": {},
     "output_type": "execute_result"
    },
    {
     "data": {
      "image/png": "[encoded data removed]",
      "text/plain": [
       "<matplotlib.figure.Figure at 0x1609db70>"
      ]
     },
     "metadata": {},
     "output_type": "display_data"
    }
   ],
   "source": [
    "#Plot of fare amount vs tips.\n",
    "sns.jointplot(x = 'Fare_amount', y = 'Tip_Percent', data = data)"
   ]
  },
  {
   "cell_type": "markdown",
   "metadata": {},
   "source": [
    "Tip percent decrease as fare increases. One reason could be that people probably do not want to pay large tips on top of high fares. Also, some people may pay the same tip amount each time, and the tip percent seems high when the fare is smaller as compared to tips on large fares for the same tip"
   ]
  },
  {
   "cell_type": "code",
   "execution_count": 47,
   "metadata": {},
   "outputs": [
    {
     "data": {
      "image/png": "[encoded data removed]",
      "text/plain": [
       "<matplotlib.figure.Figure at 0x28072748>"
      ]
     },
     "metadata": {},
     "output_type": "display_data"
    }
   ],
   "source": [
    "#Day of week vs Tip Percentage\n",
    "Tip_By_Day = data.groupby(by = ['Day_of_trip']).mean().reset_index()\n",
    "Tip_By_Day\n",
    "day_dict = {0:'Monday', 1:'Tuesday', 2:'Wednesday', 3:'Thursday', 4:'Friday', 5:'Saturday', 6:'Sunday'}\n",
    "Tip_By_Day['Day_of_trip']= Tip_By_Day['Day_of_trip'].map(day_dict)\n",
    "\n",
    "sns.barplot(x = 'Day_of_trip', y = 'Tip_Percent', data = Tip_By_Day)\n",
    "plt.tight_layout()"
   ]
  },
  {
   "cell_type": "markdown",
   "metadata": {},
   "source": [
    "As expected, the tip percentages seem slightly higher on weekends"
   ]
  },
  {
   "cell_type": "code",
   "execution_count": 48,
   "metadata": {},
   "outputs": [
    {
     "data": {
      "text/plain": [
       "<matplotlib.axes._subplots.AxesSubplot at 0x20da7470>"
      ]
     },
     "execution_count": 48,
     "metadata": {},
     "output_type": "execute_result"
    },
    {
     "data": {
      "image/png": "[encoded data removed]",
      "text/plain": [
       "<matplotlib.figure.Figure at 0x1595ecf8>"
      ]
     },
     "metadata": {},
     "output_type": "display_data"
    }
   ],
   "source": [
    "#Airports\n",
    "\n",
    "airport_tip_data = data.groupby(by= 'airport').mean().reset_index()[['airport', 'Tip_Percent']]\n",
    "airport_dict = {0:'Not airport', 1:'JFK', 2:'LGA', 3:'Newark'}\n",
    "airport_tip_data['Airport_name']= airport_tip_data['airport'].map(airport_dict)\n",
    "\n",
    "sns.barplot(x = 'Airport_name', y = 'Tip_Percent', data = airport_tip_data)"
   ]
  },
  {
   "cell_type": "markdown",
   "metadata": {},
   "source": [
    "We can see that airport rides seem to have more tips compared to non-airport rides. So this variable is correlated with tip_percent\n",
    "\n",
    "Finally, we can study the **correlations** between the variables and the target variable, as well as between variables using a heatmap\n"
   ]
  },
  {
   "cell_type": "code",
   "execution_count": 49,
   "metadata": {},
   "outputs": [
    {
     "data": {
      "image/png": "[encoded data removed]",
      "text/plain": [
       "<matplotlib.figure.Figure at 0x1a12bc88>"
      ]
     },
     "metadata": {},
     "output_type": "display_data"
    }
   ],
   "source": [
    "fig, ax = plt.subplots(figsize = (10,5))\n",
    "sns.heatmap(data[['Passenger_count', 'Trip_distance', 'Fare_amount', 'Tolls_amount', 'airport','Day_of_trip', 'is_PayDay','Speed', 'Trip_time','Tip_Percent']].corr(), annot = True, ax = ax)\n",
    "plt.tight_layout()\n"
   ]
  },
  {
   "cell_type": "markdown",
   "metadata": {},
   "source": [
    "There seem to be a few major correlations between the variables. First, between Trip distance and Fare amount, which is to be expected. While selecting features to build the final model, it would be adequate to use just the Fare amount as a feature"
   ]
  },
  {
   "cell_type": "markdown",
   "metadata": {},
   "source": [
    "## Building the model"
   ]
  },
  {
   "cell_type": "markdown",
   "metadata": {},
   "source": [
    "### K-Fold Cross validation"
   ]
  },
  {
   "cell_type": "markdown",
   "metadata": {},
   "source": [
    "We need to build a regression model for predicting the tip percentage. As the first step in this process, I perform K-fold cross validation to select a model which has a high accuracy. For this step, I consider three potential models - A Lasso regressor, Gradient Boosting Machine using the XGBoost library and a Random Forest Regressor\n",
    "\n",
    "I consider only a subset of the training set (50000 samples) to save time"
   ]
  },
  {
   "cell_type": "code",
   "execution_count": 50,
   "metadata": {},
   "outputs": [
    {
     "name": "stderr",
     "output_type": "stream",
     "text": [
      "C:\\Users\\Madhu\\Anaconda2\\lib\\site-packages\\sklearn\\cross_validation.py:41: DeprecationWarning: This module was deprecated in version 0.18 in favor of the model_selection module into which all the refactored classes and functions are moved. Also note that the interface of the new CV iterators are different from that of this module. This module will be removed in 0.20.\n",
      "  \"This module will be removed in 0.20.\", DeprecationWarning)\n"
     ]
    }
   ],
   "source": [
    "#Importing the required models\n",
    "from sklearn.ensemble import RandomForestRegressor\n",
    "from sklearn.linear_model import Lasso\n",
    "import xgboost\n",
    "from xgboost import XGBRegressor\n",
    "\n",
    "from sklearn.cross_validation import train_test_split\n",
    "\n",
    "#Removing datetime so regression can happen\n",
    "\n",
    "data.drop(['lpep_pickup_datetime','Lpep_dropoff_datetime'], inplace = True, axis = 1)\n",
    "\n",
    "\n",
    "#Sample data for K-Fold cross validation\n",
    "data_class = data.loc[np.random.choice(data.index,size=50000,replace=False)]\n",
    "X = data_class.drop(['Tip_Percent', 'Tip_amount'], axis = 1)\n",
    "y = data_class['Tip_Percent']\n"
   ]
  },
  {
   "cell_type": "code",
   "execution_count": 51,
   "metadata": {},
   "outputs": [
    {
     "name": "stdout",
     "output_type": "stream",
     "text": [
      "Lasso: 0.766932 (0.010198)\n",
      "GBM: 0.849331 (0.008350)\n",
      "RF: 0.971402 (0.011640)\n"
     ]
    },
    {
     "data": {
      "image/png": "[encoded data removed]",
      "text/plain": [
       "<matplotlib.figure.Figure at 0xe988358>"
      ]
     },
     "metadata": {},
     "output_type": "display_data"
    }
   ],
   "source": [
    "\n",
    "from sklearn import model_selection\n",
    "from sklearn.model_selection import cross_val_score\n",
    "from sklearn.model_selection import KFold\n",
    "from sklearn.model_selection import GridSearchCV, cross_val_score, StratifiedKFold, learning_curve\n",
    "seed = 7\n",
    "scoring = 'r2'\n",
    "models = []\n",
    "models.append(('Lasso',  Lasso(alpha = 0.1)))\n",
    "models.append(('GBM', XGBRegressor()))\n",
    "models.append(('RF', RandomForestRegressor()))\n",
    "# evaluate each model in turn\n",
    "results = []\n",
    "names = []\n",
    "for name, model in models:\n",
    "    kfold = model_selection.KFold(n_splits=5, random_state=seed)\n",
    "    cv_results = model_selection.cross_val_score(model, X, y, cv = kfold, scoring = scoring)\n",
    "    results.append(cv_results)\n",
    "    names.append(name)\n",
    "    msg = \"%s: %f (%f)\" % (name, cv_results.mean(), cv_results.std())\n",
    "    print(msg)\n",
    "\n",
    "\n",
    "\n",
    "     # Compare Algorithms\n",
    "fig = plt.figure()\n",
    "fig.suptitle('Algorithm Comparison')\n",
    "ax = fig.add_subplot(111)\n",
    "plt.boxplot(results)\n",
    "ax.set_xticklabels(names)\n",
    "plt.show()\n",
    "\n"
   ]
  },
  {
   "cell_type": "markdown",
   "metadata": {},
   "source": [
    "**Random forest regressor** seems to have the highest accuracy. I will use a Random Forest Regressor to predict the tip percentage.  "
   ]
  },
  {
   "cell_type": "markdown",
   "metadata": {},
   "source": [
    "### Feature importance\n",
    "I will use a random forest regressor to derive the feature importance and use the top 10 features in my final model"
   ]
  },
  {
   "cell_type": "code",
   "execution_count": 52,
   "metadata": {},
   "outputs": [
    {
     "ename": "NameError",
     "evalue": "name 'importances' is not defined",
     "output_type": "error",
     "traceback": [
      "\u001b[1;31m---------------------------------------------------------------------------\u001b[0m",
      "\u001b[1;31mNameError\u001b[0m                                 Traceback (most recent call last)",
      "\u001b[1;32m<ipython-input-52-013e329a2afe>\u001b[0m in \u001b[0;36m<module>\u001b[1;34m()\u001b[0m\n\u001b[0;32m      7\u001b[0m \u001b[0mfeatures\u001b[0m \u001b[1;33m=\u001b[0m \u001b[0mX\u001b[0m\u001b[1;33m.\u001b[0m\u001b[0mcolumns\u001b[0m\u001b[1;33m\u001b[0m\u001b[0m\n\u001b[0;32m      8\u001b[0m \u001b[0mfeature_importance\u001b[0m \u001b[1;33m=\u001b[0m \u001b[0mrf\u001b[0m\u001b[1;33m.\u001b[0m\u001b[0mfeature_importances_\u001b[0m\u001b[1;33m\u001b[0m\u001b[0m\n\u001b[1;32m----> 9\u001b[1;33m \u001b[0mindices\u001b[0m \u001b[1;33m=\u001b[0m \u001b[0mnp\u001b[0m\u001b[1;33m.\u001b[0m\u001b[0margsort\u001b[0m\u001b[1;33m(\u001b[0m\u001b[0mimportances\u001b[0m\u001b[1;33m)\u001b[0m\u001b[1;33m\u001b[0m\u001b[0m\n\u001b[0m\u001b[0;32m     10\u001b[0m \u001b[1;33m\u001b[0m\u001b[0m\n\u001b[0;32m     11\u001b[0m \u001b[0mfig\u001b[0m\u001b[1;33m,\u001b[0m \u001b[0max\u001b[0m \u001b[1;33m=\u001b[0m \u001b[0mplt\u001b[0m\u001b[1;33m.\u001b[0m\u001b[0msubplots\u001b[0m\u001b[1;33m(\u001b[0m\u001b[0mfigsize\u001b[0m \u001b[1;33m=\u001b[0m \u001b[1;33m(\u001b[0m\u001b[1;36m10\u001b[0m\u001b[1;33m,\u001b[0m\u001b[1;36m7\u001b[0m\u001b[1;33m)\u001b[0m\u001b[1;33m)\u001b[0m\u001b[1;33m\u001b[0m\u001b[0m\n",
      "\u001b[1;31mNameError\u001b[0m: name 'importances' is not defined"
     ]
    }
   ],
   "source": [
    "#Feature importance\n",
    "rf = RandomForestRegressor() \n",
    "## Fit the model on your training data.\n",
    "rf.fit(X, y) \n",
    "feature_importances = pd.DataFrame(rf.feature_importances_,index = X.columns,columns=['importance']).sort_values('importance', ascending = False).reset_index()                             \n",
    "\n",
    "features = X.columns\n",
    "feature_importance = rf.feature_importances_\n",
    "indices = np.argsort(importances)\n",
    "\n",
    "fig, ax = plt.subplots(figsize = (10,7))\n",
    "plt.title('Feature Importances')\n",
    "plt.barh(range(len(indices)), feature_importance[indices], color='g', align='center')\n",
    "plt.yticks(range(len(indices)), features[indices])\n",
    "plt.xlabel('Relative Importance')\n",
    "plt.show()\n",
    "\n",
    "feature_importances"
   ]
  },
  {
   "cell_type": "markdown",
   "metadata": {},
   "source": [
    "Based on the above feature importance figures, I can pick up ten important features. These are - Payment_type, Total_amount, Fare_amount,Dropoff_latitude,Extra, Trip_time, Trip_distance, Speed, Dropoff_longitude, Tolls_amount. Since we saw that there was a high correlation between the Trip Distance and Fare amount, I will use only the Fare amount as a feature for tip prediction.\n",
    "\n",
    "At this point, I use the **entire dataset** for my prediction"
   ]
  },
  {
   "cell_type": "code",
   "execution_count": null,
   "metadata": {
    "collapsed": true
   },
   "outputs": [],
   "source": [
    "#Creating a dataframe with these 9 important features. \n",
    "data_final_features = data [['Payment_type', 'Total_amount', 'Fare_amount','Dropoff_latitude','Extra', 'Trip_time', 'Speed', 'Dropoff_longitude', 'Tolls_amount', 'Tip_Percent']]\n",
    "X_final_features = data_final_features.drop(['Tip_Percent'], axis = 1)\n",
    "y_final_features = data_final_features['Tip_Percent']"
   ]
  },
  {
   "cell_type": "markdown",
   "metadata": {},
   "source": [
    "### GridSearch CV for Hyperparameter optimization\n",
    "\n",
    "To choose the number of estimators in the Random forest Regression model, we can use Grid Search CV"
   ]
  },
  {
   "cell_type": "code",
   "execution_count": null,
   "metadata": {},
   "outputs": [],
   "source": [
    "#Creating the training and testing sets using train_test_split. The test_size is 0.2 as the test sample is 20% of the total samples\n",
    "X_train, X_test, y_train, y_test = train_test_split(X_final_features,y_final_features, test_size = 0.2, random_state = 42)\n",
    "\n",
    "from sklearn.model_selection import GridSearchCV\n",
    "\n",
    "#Parameter grid - Tuning number of trees, max features\n",
    "param_grid = {'n_estimators': [10, 15, 20]}\n",
    "\n",
    "grid_search = GridSearchCV(estimator = rf, param_grid = param_grid, \n",
    "                          cv = 3, n_jobs = -1, verbose = 2)\n",
    "\n",
    "grid_search.fit(X_train, y_train)"
   ]
  },
  {
   "cell_type": "markdown",
   "metadata": {},
   "source": [
    "### Getting the final model "
   ]
  },
  {
   "cell_type": "code",
   "execution_count": null,
   "metadata": {
    "collapsed": true
   },
   "outputs": [],
   "source": [
    "#Getting the optimized random forest after hyperparameter optimization\n",
    "\n",
    "optimized_rf = grid_search.best_estimator_\n",
    "\n"
   ]
  },
  {
   "cell_type": "markdown",
   "metadata": {},
   "source": [
    "### Performance of the model\n",
    "\n",
    "#### R^2 of the model"
   ]
  },
  {
   "cell_type": "code",
   "execution_count": null,
   "metadata": {},
   "outputs": [],
   "source": [
    "#Predictions from the model for the test set\n",
    "from sklearn import metrics\n",
    "y_pred = optimized_rf.predict(X_test)\n",
    "r_squared = metrics.r2_score(y_test, y_pred)\n",
    "print(\"The R-Squared of the model is {}\".format(r_squared))\n"
   ]
  },
  {
   "cell_type": "markdown",
   "metadata": {},
   "source": [
    "#### MSE of the final model"
   ]
  },
  {
   "cell_type": "code",
   "execution_count": null,
   "metadata": {},
   "outputs": [],
   "source": [
    "mse = metrics.mean_squared_error(y_test, y_pred)\n",
    "mse_train = metrics.mean_squared_error(y_train, optimized_rf.predict(X_train))\n",
    "print(\"The Mean Squared Error of the model on the test set is {}\".format(mse))\n",
    "print(\"The Mean Squared Error of the model on the training set is {}\".format(mse_train))"
   ]
  },
  {
   "cell_type": "markdown",
   "metadata": {},
   "source": [
    "The Mean Squared Error of the model on the training and test set are small, and this is a a good indicator"
   ]
  },
  {
   "cell_type": "markdown",
   "metadata": {},
   "source": [
    "#### Scatter plot of Actual vs Predicted values"
   ]
  },
  {
   "cell_type": "code",
   "execution_count": null,
   "metadata": {},
   "outputs": [],
   "source": [
    "plt.scatter(x = y_test, y= y_pred)\n",
    "plt.xlabel('Actual values')\n",
    "plt.ylabel('Predicted values')\n",
    "plt.title('Tip percentage - Actual vs Predicted values')\n"
   ]
  },
  {
   "cell_type": "markdown",
   "metadata": {},
   "source": [
    "## Conclusion\n",
    "\n",
    "The above Random Forest Regression model is very highly accurate, as can be seen from the **R^2 of 0.997**. The mean square error of this model is also very small. The scatter plot of the actual vs predicted tip percentage values show that all the points are very close to the regressed diagonal line. From these key performance metrics, we can say that the model is very successful in predicting the Tip Percentages using New York Green Taxi data"
   ]
  },
  {
   "cell_type": "markdown",
   "metadata": {},
   "source": [
    "## Question 5\n",
    "**•            Option A: Distributions**\n",
    "\n",
    "**•            Build a derived variable representing the average speed over the course of a trip.**\n",
    "\n",
    "**•            Can you perform a test to determine if the average trip speeds are materially the same in all weeks of September? If you decide they are not the same, can you form a hypothesis regarding why they differ?**\n",
    "\n",
    "**•             Can you build up a hypothesis of average trip speed as a function of time of day?**"
   ]
  },
  {
   "cell_type": "markdown",
   "metadata": {},
   "source": [
    "I have already created the derived variable **Speed**, which was instrumental in the prediction of the tip percentage"
   ]
  },
  {
   "cell_type": "markdown",
   "metadata": {},
   "source": [
    "### Test to determine if average speeds were materially the same across all weeks of September"
   ]
  },
  {
   "cell_type": "code",
   "execution_count": null,
   "metadata": {
    "collapsed": true
   },
   "outputs": [],
   "source": [
    "# Using the copy of the data which was created earlier to derive the 'Week' variable from the pickup and dropff datetime\n",
    "\n",
    "speed_by_time = pd.DataFrame(columns = ['lpep_pickup_datetime', 'Lpep_drop_datetime','Overall_Week','Week','Hour_of_day','Speed'])\n",
    "speed_by_time.lpep_pickup_datetime = data_copy.lpep_pickup_datetime\n",
    "speed_by_time.Lpep_drop_datetime = data_copy.Lpep_dropoff_datetime\n",
    "#Getting the week \n",
    "speed_by_time['Overall_Week'] = map(lambda x: x.week, speed_by_time.lpep_pickup_datetime)\n",
    "speed_by_time['Hour_of_day'] = map(lambda x: x.hour, speed_by_time.lpep_pickup_datetime)\n",
    "speed_by_time['Speed'] = data['Speed']"
   ]
  },
  {
   "cell_type": "code",
   "execution_count": null,
   "metadata": {
    "collapsed": true
   },
   "outputs": [],
   "source": [
    "#Removing outliers in Speed. Speeds cannot be very high, as the speed limit in NYC was 25 mph in 2015\n",
    "speed_by_time = speed_by_time[speed_by_time.Speed < 100]\n",
    "\n"
   ]
  },
  {
   "cell_type": "code",
   "execution_count": null,
   "metadata": {
    "collapsed": true
   },
   "outputs": [],
   "source": [
    "speed_by_time.loc[speed_by_time.Overall_Week == 36, 'Week'] = 1\n",
    "speed_by_time.loc[speed_by_time.Overall_Week == 37, 'Week'] = 2\n",
    "speed_by_time.loc[speed_by_time.Overall_Week == 38, 'Week'] = 3\n",
    "speed_by_time.loc[speed_by_time.Overall_Week == 39, 'Week'] = 4\n",
    "speed_by_time.loc[speed_by_time.Overall_Week == 40, 'Week'] = 5\n"
   ]
  },
  {
   "cell_type": "code",
   "execution_count": null,
   "metadata": {
    "collapsed": true
   },
   "outputs": [],
   "source": [
    "speed_week1 = speed_by_time.loc[speed_by_time.Week == 1, 'Speed'].values\n",
    "speed_week2 = speed_by_time.loc[speed_by_time.Week == 2, 'Speed'].values\n",
    "speed_week3 = speed_by_time.loc[speed_by_time.Week == 3, 'Speed'].values\n",
    "speed_week4 = speed_by_time.loc[speed_by_time.Week == 4, 'Speed'].values\n",
    "speed_week5 = speed_by_time.loc[speed_by_time.Week == 5, 'Speed'].values"
   ]
  },
  {
   "cell_type": "markdown",
   "metadata": {},
   "source": [
    "**To determine if the average speeds are materially the same across the weeks of September, we can perform a Oneway ANOVA\n",
    "test**\n"
   ]
  },
  {
   "cell_type": "code",
   "execution_count": null,
   "metadata": {},
   "outputs": [],
   "source": [
    "#Performing the ANOVA test\n",
    "import scipy.stats as stats\n",
    "stats.f_oneway(speed_week1, speed_week2, speed_week3, speed_week4, speed_week5)"
   ]
  },
  {
   "cell_type": "markdown",
   "metadata": {},
   "source": [
    "### Conclusion from the ANOVA test\n",
    "\n",
    "As the p-value is very small (0), we can **definitely reject the null hypothesis**.Therefore, the average speeds are materially **different** across the weeks of September."
   ]
  },
  {
   "cell_type": "code",
   "execution_count": null,
   "metadata": {},
   "outputs": [],
   "source": [
    "#More graphs to prove this point\n",
    "fig, (ax0,ax1,ax2,ax3,ax4) = plt.subplots(1,5, figsize = (20,4))\n",
    "sns.distplot(speed_week1, ax = ax0, kde = False)\n",
    "sns.distplot(speed_week2, ax = ax1, kde = False)\n",
    "sns.distplot(speed_week3, ax = ax2, kde = False)\n",
    "sns.distplot(speed_week4, ax = ax3, kde = False)\n",
    "sns.distplot(speed_week5, ax = ax4, kde = False)\n",
    "ax0.set_xlabel('Speed - Week 1')\n",
    "ax1.set_xlabel('Speed - Week 2')\n",
    "ax2.set_xlabel('Speed - Week 3')\n",
    "ax3.set_xlabel('Speed - Week 4')\n",
    "ax4.set_xlabel('Speed - Week 5')"
   ]
  },
  {
   "cell_type": "code",
   "execution_count": null,
   "metadata": {},
   "outputs": [],
   "source": [
    "#Finding the mean speeds across the weeks of September 2015\n",
    "\n",
    "mean_week_list = [np.mean(speed_week1), np.mean(speed_week2), np.mean(speed_week3), np.mean(speed_week4), np.mean(speed_week5)]\n",
    "for i in range(0,len(mean_week_list)):\n",
    "    print(\"Average speed in week {}: {}\".format(i+1, mean_week_list[i]))"
   ]
  },
  {
   "cell_type": "markdown",
   "metadata": {},
   "source": [
    "We can see that the average speed decreased from Week 1 to 2 and stayed almost the same in Week 3. After this, the speed increased in Week 4 , finally dropping to the lowest speed among all the weeks in Week 5"
   ]
  },
  {
   "cell_type": "markdown",
   "metadata": {},
   "source": [
    "#### Hypothesis for differing mean speeds across the weeks of September 2015\n",
    "\n",
    "Speed can be different on different weeks because of factors like **important events** happening in NYC around different weeks of September\n",
    "One example of this is the US Open which was hosted in NYC in September 2015. It continued till 13th September. This might have let to the congestion of roads as more people travel to NYC to watch this event and avail taxis, and hence taxi speeds could have decreased towards the end of the event, around the second week.\n",
    "\n",
    "Another key factor which could be influencing the taxi speeds is the **weather** across the weeks of September 2015 in NYC. The following website details the weather across the weeks of September 2015:\n",
    "http://www.weathergamut.com/2015/10/01/nyc-monthly-summary-september-2015/\n",
    "\n",
    "As we can see, in weeks in which heavy rainfall was recorded, we can see lesser average taxi speeds, probably because drivers want to drive more safely in bad weather and rain. In weeks in which the weather was sunny, like the first and fourth week, speeds appear to be more.\n",
    "\n",
    "<img src=\"September_Weeks_Rainfall.png\">"
   ]
  },
  {
   "cell_type": "markdown",
   "metadata": {},
   "source": [
    "### Average Trip Speed as a function of the time of day"
   ]
  },
  {
   "cell_type": "code",
   "execution_count": null,
   "metadata": {
    "collapsed": true
   },
   "outputs": [],
   "source": [
    "speed_by_time['pickup_hour'] = data.pickup_hour\n",
    "#Group by pickup hour\n",
    "time_speed = []\n",
    "\n",
    "for i in range (0, 24):\n",
    "    speed_array = speed_by_time.loc[speed_by_time.pickup_hour == i, 'Speed'].values\n",
    "    time_speed.append(speed_array)\n",
    "    "
   ]
  },
  {
   "cell_type": "code",
   "execution_count": null,
   "metadata": {},
   "outputs": [],
   "source": [
    "#Performing one way ANOVA test again, across hours of the day\n",
    "stats.f_oneway(time_speed[0],time_speed[1],time_speed[2],time_speed[3],time_speed[4], time_speed[5], time_speed[6],\n",
    "              time_speed[7],time_speed[8], time_speed[9], time_speed[10], time_speed[11], time_speed[12],time_speed[13],time_speed[14],\n",
    "              time_speed[15],time_speed[16], time_speed[17], time_speed[18], time_speed[19], time_speed[20], time_speed[21], time_speed[22],\n",
    "              time_speed[23])"
   ]
  },
  {
   "cell_type": "markdown",
   "metadata": {},
   "source": [
    "Again, the zero p-value indicates that we can reject the null hypothesis and conclude that the speed varies materially across the time of the day"
   ]
  },
  {
   "cell_type": "code",
   "execution_count": null,
   "metadata": {},
   "outputs": [],
   "source": [
    "#Means of speeds across hours of the day\n",
    "mean_speeds = []\n",
    "for i in range(0, 24):\n",
    "    print('Mean speed at hour {} : {}'.format(i, round(np.mean(time_speed[i]),2)))\n",
    "    mean_speeds.append(np.mean(time_speed[i]))\n",
    "#Morning speed > Evening Speed. (maybe because of light, passengers might want to travel slower at night). Evening rush hour speed is very low. Probably due to traffic.\n",
    "#Early morning speeds are very high. This is probably because the roads are less crowded in the mornings so cars can travel faster. (People going to airport?)\n",
    "Mean_speed_timeofday  = map(np.mean, time_speed)\n"
   ]
  },
  {
   "cell_type": "code",
   "execution_count": null,
   "metadata": {},
   "outputs": [],
   "source": [
    "sns.pointplot(x = range(0,24), y = Mean_speed_timeofday)\n",
    "plt.xlabel('Hour of day')\n",
    "plt.ylabel('Mean Speed (in mph)')\n",
    "plt.title('Speed across times of the day')\n",
    "\n",
    "speed_by_time.boxplot('Speed','pickup_hour')\n",
    "plt.ylim(1, 50)\n",
    "plt.tight_layout()"
   ]
  },
  {
   "cell_type": "markdown",
   "metadata": {},
   "source": [
    "#### Hypothesis of varying speed across times of day\n",
    "\n"
   ]
  },
  {
   "cell_type": "markdown",
   "metadata": {},
   "source": [
    "#### • Effect of rush hours on speeds"
   ]
  },
  {
   "cell_type": "code",
   "execution_count": null,
   "metadata": {},
   "outputs": [],
   "source": [
    "fig, (ax1, ax2) = plt.subplots(2, 1, figsize = (10,6))\n",
    "sns.pointplot(x = range(0,24), y = Mean_speed_timeofday, ax = ax1)\n",
    "ax1.set_xlabel('Hour of day')\n",
    "ax1.set_ylabel('Mean Speed (in mph)')\n",
    "ax1.set_title('Speed across times of the day')\n",
    "sns.countplot('pickup_hour', data = data, ax = ax2)\n",
    "ax2.set_xlabel('Hour of day')\n",
    "ax2.set_ylabel('Number of trips')\n",
    "ax2.set_title('Number of trips across the hours of the day')\n",
    "\n",
    "plt.tight_layout()\n"
   ]
  },
  {
   "cell_type": "markdown",
   "metadata": {},
   "source": [
    "We can very clearly see the effect of rush hours on speeds. The average speed is very low during the morning rush hours (8-10 am) and during the evening rush hours (5-7 pm). This might be because a lot of people will be travelling to and from work during these times, and so the roads might be very congested. Therefore, the average speed decreases. <br>\n",
    "\n",
    "During the less busy afternoon hours, the speed slowly picks from the morning rush hour speed only to decrease again towards the evening rush hour. <br>\n",
    "\n",
    "As night approaches, the roads clear out again, and the speeds pick up "
   ]
  },
  {
   "cell_type": "markdown",
   "metadata": {},
   "source": [
    "The highest speeds seem to occur at 5 am in the morning. We can see that this is also the time when the least number of trips occur. Therefore the roads are very empty and people can travel faster"
   ]
  },
  {
   "cell_type": "markdown",
   "metadata": {},
   "source": [
    "• Second, the speeds during morning are greater than the evening and night speeds. This might probably be because of **greater visibility** in the morning and passengers wanting to travel slower at night to be safe\n"
   ]
  },
  {
   "cell_type": "markdown",
   "metadata": {},
   "source": [
    "#### Effect of airport trips"
   ]
  },
  {
   "cell_type": "markdown",
   "metadata": {},
   "source": [
    "As a part of the answer for question 3, we could see that a lot of airport trips are undertaken early in the morning around 5 am in NYC. <br>\n",
    "\n",
    "Since airport trips are mostly along highways and Freeways, the average speed of these trips might be much higher than normal trips. Since many of these trips are around 5 am, we might be seeing higher speeds at this time. The figures below illustrate this fact\n",
    "\n"
   ]
  },
  {
   "cell_type": "code",
   "execution_count": null,
   "metadata": {},
   "outputs": [],
   "source": [
    "\n",
    "normal_trip_speed = round(data[data.airport == 0]['Speed'].mean(),2)\n",
    "\n",
    "airport_trip_speed = round(data[data.airport != 0]['Speed'].mean(),2)\n",
    "\n",
    "print('The average non-airport trip speed is {} and the average airport trip speed is {}'.format(normal_trip_speed, airport_trip_speed))"
   ]
  },
  {
   "cell_type": "markdown",
   "metadata": {},
   "source": [
    "### Conclusion\n",
    "\n",
    "To conclude, mean speeds seem to differ materially across the weeks of September as well as the time of the day. The above hypotheses explain these material differences.\n"
   ]
  },
  {
   "cell_type": "code",
   "execution_count": null,
   "metadata": {
    "collapsed": true
   },
   "outputs": [],
   "source": []
  }
 ],
 "metadata": {
  "kernelspec": {
   "display_name": "Python 2",
   "language": "python",
   "name": "python2"
  },
  "language_info": {
   "codemirror_mode": {
    "name": "ipython",
    "version": 2
   },
   "file_extension": ".py",
   "mimetype": "text/x-python",
   "name": "python",
   "nbconvert_exporter": "python",
   "pygments_lexer": "ipython2",
   "version": "2.7.14"
  }
 },
 "nbformat": 4,
 "nbformat_minor": 2
}
